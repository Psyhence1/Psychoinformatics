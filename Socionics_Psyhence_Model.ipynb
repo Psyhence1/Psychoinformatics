{
  "nbformat": 4,
  "nbformat_minor": 0,
  "metadata": {
    "colab": {
      "provenance": []
    },
    "kernelspec": {
      "name": "python3",
      "display_name": "Python 3"
    },
    "language_info": {
      "name": "python"
    }
  },
  "cells": [
    {
      "cell_type": "markdown",
      "source": [
        "# License"
      ],
      "metadata": {
        "id": "dZ-NsGvPgWGq"
      }
    },
    {
      "cell_type": "markdown",
      "source": [
        "Psyhence Socionics Model © 2012 by Marco A. Lopez Maytorena is licensed under [CC BY-NC- 4.0](https://creativecommons.org/licenses/by-nc-sa/4.0/?ref=chooser-v1)"
      ],
      "metadata": {
        "id": "pm3geHbsga3C"
      }
    },
    {
      "cell_type": "markdown",
      "source": [
        "# **Socionics Psyhence Model**"
      ],
      "metadata": {
        "id": "edvPrE1xJs1U"
      }
    },
    {
      "cell_type": "markdown",
      "source": [
        "## Table of Contents\n",
        "   * [Metaphysics](#metaphysics)\n",
        "   * [Socionics & Psychoinformatics](#psychoinformatics)\n",
        "   * [Quantum properties](#quantum)\n",
        "   * [Objective of the Proyect](#objective)\n",
        "   * [Induction](#induction)\n",
        "   * [Libraries](#libraries)\n",
        "   * [Aspects of Reality](#aspects)\n",
        "   * [1st Dimension: Orientation towards Otherness](#1-dimension)\n",
        "   ** [Object vs Field](#object-field)\n",
        "   ** [Orientation (towards Otherness)](#orientation)\n",
        "   * [2nd Dimension: Information Gain method](#2-dimension)\n",
        "   ** [Dynamic vs Static](#dynamic-static)\n",
        "   ** [Method (of Information Gain)](#info-gain)\n",
        "   * [3rd Dimension: Focus](#3-dimension)\n",
        "   ** [External vs Internal](#external-internal)\n",
        "   ** [Focus (of Validation)](#focus)\n",
        "   * [Cognitive Attribuition](#cognitive)\n",
        "   * [Information Aspects](#info-aspects)\n",
        "   * [Jungian Aspects](#jung-aspects)\n",
        "   ** [Intuition](#intuition)\n",
        "   ** [Sensation](#sensation)\n",
        "   ** [Thought](#thinking)\n",
        "   ** [Feeling](#feeling)\n",
        "   * [Attribution Dictionary](#dict)\n"
      ],
      "metadata": {
        "id": "KDOT7eY7k1jL"
      }
    },
    {
      "cell_type": "markdown",
      "source": [
        "<a class=\"anchor\" id=\"metaphysics\"></a>\n",
        "## Metaphysics (The Cosmological Elementary Matrioshka)\n",
        "  \n"
      ],
      "metadata": {
        "id": "pdVgBqzWJiWf"
      }
    },
    {
      "cell_type": "markdown",
      "source": [
        "**Dialectical Fractality and the Ontology of Phenomenological Epistemology**\n",
        "\n",
        "In principle, dialectical fractality is a heuristic model for knowledge management, where the dialectical process is seen as a fractal phenomenon, having opposing forces (thesis and antithesis) interacting and giving rise to higher levels of comprehension (synthesis). This synthesis, in turn, becomes a new thesis, initiating another cycle of dialectical development. This process is repeated at multiple scales, resulting in a fractal pattern of dialectical evolution (and involution).\n",
        "\n",
        "Following the dialectical fractality priciple, we can think of any thesis (and its opposing force) as structurally synthetical, which allows us to decompile or derive from it (disentangle) previously (up to 'a priori') granted, or implied decision-trees of metathesis and meta-antithesis, leading towards the root, deeper understanding of guiding ideas and values, up to (or rather down into) its most fundamental aspects.  \n",
        "\n",
        "The most essential or transcendental dialectical fractal framework is the relationship between consciousness and entropy, which reflects the differentiation and reintegration process of information (and knowledge) as a function of the parametrization of potential absolute into the possible relative, as well as, the reconsoldiation of such relative patterning from local parametrization onto apporaches towards the potential absolute.\n",
        "\n",
        "The main idea is then, that there is an inverse relationship between consciousness and entropy. For every quanta or unit of entropical divergence there is a quanta or unit of conscious convergence, carrying parametrical information that serves to both, a) model a differentiated (thesis vs antithesis) universe into lower dimensional spaces (and thus maximizing information content in function of entropy), and b) guide the process of reintegration onto higher dimensional spaces (synthesis, via information gain method).\n",
        "\n",
        "Consciousness can be amounted as fractaly derived from any higher dimensional, self-referenced and integral (from, up to the absolute) field, into object oriented systems of reference within a lower dimensional, and thus more parametrically diluted field of consciousness. Complexity is the result of losing higher dimensional simplicity (rules of self-reference), following a process of differentiation, leading towards a notion of apparent chaotical conditions. By losing dimensionality, there is an experiental local notion of information loss, (first experienced as a newborn, being ejected out the self-sufficient field of mother) which in fact is rather directly proportional to the lack of immediate awareness towards having all parameterical references required in order to integrate the information back onto its higher dimensional influential sphere (and thus becoming a self-sufficient field). This process of fractalization and differentiation leads to the possibility of experiencig otherness, as a subject-object relationsip, and gives rise to the ontological fear of any subject-object, following the principle of phenomenological uncertainty.\n",
        "\n",
        "As a natural consequence of scalar refraction, the shadows projected towards the lower dimension, that were previously apperceived within the same field of consciousness, seem now as if distributed outside of the self, manifested as apparent different auqnta and qualia, which can however be recollected into informational sets for reference by diverse means. In factuality the parametrical means are being redistributed into objective fractals of consciousness.\n",
        "\n",
        "Thus, and following the framework of the Cosmological Elemental Matrioshka, we can consider the first (ontologically primal) movement as a decay, from a tendetially absolute self-conscious field of certainty (where whatever is to happen is always known to happen as it does, and thus the limit of entropy and information content is tententially 0), into ever more \"chaotic\" (infinite) object distributed fields of reference, where such an object's explicit and external means of reference, are in fact but synthetical bits of the higher field's internal implicit attributes and dynamics.\n",
        "\n",
        "Such a process of consciousness-oriented decay, leading into the phenomenology of entropical epistemology, is caused by a redistribuition (increase) of parameterical data, which becomes necessary for information gain as apperceived from within the subject-object of reference; as originated from the spiritual into the mental and from the mental into the material, \"from above towards below\". This way (direction) the universe achieves ever denser materialization from the absolute wisdom (all knowledge at ALL's disposal) into relative epistemology (becoming all self-references for knowledge). Life is a growing living updating library of redistributed knowledge, integrating towards absolute widsom, \"from below towards above\". As far as it is concerning for life, the acquisition of knowledge, recovered via Information Gain methods, is a neverending battle against Information Content, which is increasing in function of entropy.\n",
        "\n",
        "Information gain, modeled by conscious parametrization of data, integrated onto clusters and sequences of objects and fields, and validated through explicit and implicit means, is then actively seeked by every self-aware, subject-object within every field of reference, giving the rise to the subjective experience of consciousness."
      ],
      "metadata": {
        "id": "Ow7S3kE0J-sd"
      }
    },
    {
      "cell_type": "markdown",
      "source": [
        "<a class=\"anchor\" id=\"psychoinformatics\"></a>\n",
        "## Socionics & Psychoinformatics\n"
      ],
      "metadata": {
        "id": "WhT1QJBCf2dL"
      }
    },
    {
      "cell_type": "markdown",
      "source": [
        "A psychoinformational framework refers to an approach that integrates information theory and cognitive psychology to understand consciousness and human behavior. This framework views the experience of consciousness as the expression of a cognitive representation of any information system's own state and processing, at any given moment, following the next psychoinformational principles and definitions (a),(b) and (c):\n",
        "\n",
        "(a) **Psychoinformational principle:** The experience of consciousness arises from an information system's **(i)** cognition of its own information state and processing of its Psychoinformational space **ω(i)**, at any moment of awareness via a Psychoinformational function **Ψ(i)**.\n",
        "\n",
        "(b) **Psychoinformational function Ψ(i):** Represents a probabilistic measure for the local approach towards a method for the reproduction of cognitive feedback of an informational system **(i)**, by applying a series of processes for Information Metabolism (IM) to gather, extract, transform and arrange data from aspects of reality (AoR) into cognitive elements of the psyche, following precognitive attribuition, and as derived in accordance to the local interaction and apperception of **(i)** towards its own Psychoinformational space **ω(i)**.  \n",
        "\n",
        "(c) **Psychoinformational space ω(i):** The quantized multidimensional Hyperspace where metainformative potential aspects of reality (potential data-aspects) can collapse into phenomenological information aspects, to furtherly be structured and processed into Information Metabolism Elements (IMEs), via precognitive attribuition (psychic energy tendential investment), in order to be experienced as an informational system's (i) own dynamic field of consciousness (following the psychoinformational function Ψ(i)).\n",
        "\n",
        "(d) **Psychoinformational type τ(i):**: A probabilistic approach to Prototypes of Information Metabolism (PIM), as a result of comparing the factual Ψ(i) spectrum of an information system (i), to symmetrically and ideally optimized tendencies of IME hierachization (Central-TIM), as drawn in accordance to the natural arrangement of cognitive functional channels, under the assumption of selective attention and mutual exclusion, and following a coordinated effort for the optimization of mental, physical and vital resource management.  \n",
        "\n",
        "As a result of life-dynamics and following the principle of entropy, any Central Type of Information Metabolism (C-TIM), as arranged via its own psychoinformation function Ψ(i), tends towards the deformation of its psychoinformational state (i) onto psychoinformational prototypes, from which their field of consciosuness is dynamically fed (modeled), as per Information Metabolism. The consequence of continuous, persisting, long-term or traumatic stress, as produced by friction between the psychoinformational boundaries, is an effective topological deformation of both a) functional psychoinformational space ω(i), and thus b) it's probable psychoinformational types τ(i).\n",
        "\n",
        "Every psychoinformational type τ(i) is accounting for an individual constructivistic approach towards the developent of an own psychoinformational function Ψ(i). It follows then that it is then the psychoinformational state of (i) which is twisted by the iteration of Ψ(i), resuting in an ever evoloving and transforming self, depending on the internal structural tendencies to bend the very own psychoinformational space. This quantum topology is considered as capable to regress into any previous state at any given moment following the necessary Ψ(i) activities or after the experience of trauma. As such Ψ(i) has the possibility to frame seemingly dispair or controverted apporaches to life, i.e clinical disorders such as bi-polarity or multiple-personality, dissociative fugue, etc.\n",
        "\n",
        "In terms of influence the psychoinformational function Ψ(i) is the main method to interact with psychoinformational space ω(i) in order to condense quantum possibilities of apperception into actual phenomenological experiences.\n",
        "\n",
        "In general terms Ψ(i) represents a multimodal, socio-constructivistic, phenomenological, cybernetic constructor, which produces several layers of awareness and enacts as the main psychological regent, which governs the psychic realm experiences and decision-making, to satisfy the psychological demans in function of the interests of self, as gathered and updated by Ψ(i).\n",
        "Thus it is but the very nature of Ψ(i) to shape and be shaped within fractal and self-reference principles, as it iterates itself and learns according to its own transformation, which represents accordingly its very own disposition towards its very own valuation of reality.\n",
        "\n",
        "Consequentially, it is then considered that the experience of reality is actually collapsing, in phenomenological terms, from the systems' mental towards the consideration of the physical, in function of the possibility of its own verification and evaluation.\n",
        "And thus, as such, the contemplation that any living system, becomes aware of its very own process of being, as a part of its interactive, self-integrative function, where life is lived and decreted at the same time.\n",
        "It can be concluded that every being is under an invariant condition of becoming determined dynamically by its very own recount, of their personal universal apperception, as they infinitely internalize grow and iterate themselves via Ψ(i).  "
      ],
      "metadata": {
        "id": "CYes7a7MgBhw"
      }
    },
    {
      "cell_type": "markdown",
      "source": [
        "###Use cases\n"
      ],
      "metadata": {
        "id": "8PiA9gqYY70f"
      }
    },
    {
      "cell_type": "markdown",
      "source": [
        "* Philosophy: Explain metainformational aspects and metaheuristics of thinking and decision-making according to psychoinformational approaches. Recognize the limitations of theoretical models as defined by their very own apporach.\n",
        "\n",
        "* Personality typing: The use of psychoinformational approaches to define basic parameters of personality, as demonstrated by the International Institute of Socionics.\n",
        "\n",
        "* Business and interpersonal interactions: Analyzing team dynamics and forecasting interactions using specialized software and psychoinformational methods.\n",
        "\n",
        "* Marketing and social media: Providing pronostics and suggestions of channels, pages, people, events and content following psychoinformational tendencies and preferences.\n",
        "\n",
        "* Politics: Depicting intracultural and metasocial values, as well as explaining and predicting behavioural tendencies on a societal level. Understanding intercultural dynamics leading to war and peace across groups, societies and countries by revealing underlying psychoinformational nuanaces and conflict between multitude of contemporary agendas, contexts and policies.\n"
      ],
      "metadata": {
        "id": "DZi1uAuBZQTx"
      }
    },
    {
      "cell_type": "markdown",
      "source": [
        "<a class=\"anchor\" id=\"*quantum*\"></a>\n",
        "## Quantum properties\n",
        "\n"
      ],
      "metadata": {
        "id": "5e4IqvHZ3F5A"
      }
    },
    {
      "cell_type": "markdown",
      "source": [
        "**Psychoinformational Spin** in an inherent quality of every IME, that represents a tendential conservation of self-referent momentum towards otherwise competing psychoinformational goals. The conservation of both direction (integration vs differentiation) and magnitude of importance (probabilistic weight towards collapsing) into IME, allows for the preservation of methodological and functional coherence across the psychoinformational prototypes of cognition.\n",
        "\n",
        "As a consequence of Psychoinformational Spin, IME are charged towards the integration vs differentation axis.\n",
        "Elements with integrative charge aspire towards holistic apprehension, seeking thus to reunite bits of probability in a parent synthetical category to minimize information content. Integration elements lean towards simplification.\n",
        "Elements with differential charge aspire towards analytical apprehension, seeking thus to separate current bits of probability into its thetical and antithetical bits, to maximize Information gain.\n",
        "\n",
        "**Psychoinformational entanglement** is the property of all bits within (i)'s informational content I(i), to tendentially collapse into psychoinformational spaces ω(i) as previously expected by the psychoinformational function ω(i). As a result of psychoinformational entanglement, a preservation of coherence within prioritization and direction of IM is promoted (via a Psychoinformational type τ(i)) across any subject-object's field of consciousness.\n",
        "\n",
        "As a natural consequence of psychoinformational entanglement within a subject-object field of conscioussness, the apperception of any given IME collapses the rest of the potential elements into a C-TIM hierarchy, which tendentially reproduces the psychoinformational function Ψ(i) to match a proximal Psychoinformational type τ(i).\n",
        "\n",
        "The total self-referent momentum as accounted by the sum of psychoinformational spins from each IM, wihin any Prototype of Information Metabolism (PIM), remains the same, unaffected even after natural deformation of psychoinformational spaces ω(i) has ocurred. It is in fact such preservation of momentum that allows for deformations to ocurr, as regulated and under the constraint of self-agency demands."
      ],
      "metadata": {
        "id": "UrPX2QODhLq_"
      }
    },
    {
      "cell_type": "markdown",
      "source": [],
      "metadata": {
        "id": "AKnk5MJ_3N3b"
      }
    },
    {
      "cell_type": "markdown",
      "source": [
        "##Objective of the Proyect:\n",
        "\n"
      ],
      "metadata": {
        "id": "WmGo2V2SY8Vw"
      }
    },
    {
      "cell_type": "markdown",
      "source": [
        "* Integrating psychoinformational principles with the use of artificial intelligence: Exploring how AI systems can be designed to approach (mimic) human information processing and experiences, potentially leading to more human-like AI.\n",
        "\n",
        "* Applying psychoinformational approaches to mental health: Developing new therapies and interventions that target the informational structure of the psyche, addressing mental health disorders and improving overall well-being.\n",
        "\n",
        "* Providing personal and vocational guidance via psychoinformational typing: Developing tools that promote self-understanding, the acceptance and valuation of one's strengths as well as means to target areas of opportunity for growth, self-development, vocational education and enterprising.\n",
        "\n",
        "* Gain a deeper understanding of the intricate relationships between information, consciousness, and human behavior, with potential applications in various fields, from psychology and sociology to business and education.\n",
        "\n",
        "* Developing technology for all of the purposes exposed above, integrating such capabilities into an interactive app for self-service on demand."
      ],
      "metadata": {
        "id": "_a2T8zhjZTvx"
      }
    },
    {
      "cell_type": "markdown",
      "source": [
        "<a class=\"anchor\" id=\"induction\"></a>\n",
        "## Induction"
      ],
      "metadata": {
        "id": "gn48O9bOb56q"
      }
    },
    {
      "cell_type": "markdown",
      "source": [
        "Psyhence Socionics_AI is a cognitive model of personality, designed for the systemical study of human psychology from a psychoinformational approach. As such it considers:\n",
        "\n",
        "(1) The experience of consciousness as a destilation and integration of properties of metadata as available for the inner and surrounding psychophysical and psychological environments of a being.\n",
        "\n",
        "(2) The consolidation of layers of conscioussness for a being, as filtered by functional and hierarchical arrays of cognitive preference/valuation.\n",
        "\n",
        "(3) The natural hierarchization of informational channels to process cognitive preference/valuation accordnig to the conscious tendency for directing and investing basic psychological resources selectively (i.e energy, atention, time) towards fundamental aspects of reality.\n",
        "\n",
        "(4) Both, conscious and unconscious tendencies to favor the observation and valuation of aspects of reality as primed by precognitive attribution.\n",
        "\n",
        "(5) The systematic allocation of vital resources (such as time and energy) as a\n",
        "function of individual psycholofical preference (whether acknowledged or not), manifested as a tendential investment of both vital and psychic resources towards favored precognitve attributes.\n",
        "\n",
        "(6) The precognitive attribuition of any being towards aspect of reality, in terms of its probabilistical: a) orientation towards otherness, b) information gain methodology, and c) focus of validation. Leading towards the integration of valued vs subdued information aspects and elements.\n",
        "\n",
        "(6) The metabolization of information elements, following the energy modulation of the precognitive attribuition process towards integration of compatible (metainformative) aspects of reality, into their corresponding psychoinformational spaces(i), that can be readily and functionally cognized by the psyche.\n",
        "\n",
        "(7) The systematical referential approach towards the own hierarchy of valued vs subdued informational spaces, into tendentially stable Central Types of Information metabolism (C-TIM), in accordance to the dynamic evolution of the Psychoinformational Function Ψ(i).\n",
        "\n",
        "Psyhence Socionics AI models on a metainformational level, how information is fundamentally rendered from irreductible aspects of phenomenological reality. That is, how cognitive metadata that amounts for psychophysical and psychological fundamental data, is filtered through a space of primordial categorical bins, which provide a precognitive attribuition matrix for data to be sorted into informational aspects of cognition. By doing so the psyche secures information gain, achieving the effective reduction of both, uncertainty about reality, and consequientially, cognitive dissonance, while optimizing the mangement of personal resources in respect of the own system's ontological conditions.\n",
        "\n",
        "It then follows to model how these information aspects are transfomed/metabolized by the continuous allocation of energy and psychological resources, such as attention, focus and value, to be processed as main elements of cognitive classes, following their given criteria. Each of these classes or informational elements are then used as main informational categories to access several cognitive functions or channels corresponding to the subjects' Ψ(i).\n",
        "\n",
        "Cognitive functions are main psychological channels through which information elements are filtered and hierarchized according to psychological and psychophysical individual favoritism, leading to the emergence of C-TIMs (Central Types of Information Metabolism). Favoritism includes the egoical ideation of criterions for informational apperception, as well as the allocation of energetical and psychological resources following such criteria, that allow for the psychoinformational function Ψ(i) to allign, evaluate and validate any given psychoinformational space (i).\n",
        "\n",
        "Favoritism is as such, a tendential valuation and hierarchization of a set of compatible and complementary psychoinformational spaces (i), for functional egoical means (Ψ(i)), to mentally grasp reality and produce information, following a (not always known) predisposition towards the stabilization of longituninal patterns of precongitive attribuition. This stability aims for maximum efficiency of personal resource management, as well as a deep specialization towards psychological efficacy, increasing the chance of survival and promoting a notion of categorical certainty and cognitve ressonance inside of the subject and towards its interactions with reality.\n",
        "\n",
        "Psyhence Socionics model considers the natural process of personality development as derived from the experience, cognition and hierarchization of informational aspects into psychoinformational favored spaces, and the resulting develpment of a psychoinformational topography across time. It describes personality as a complex constructivistic pychoinformational system, with discrete and continuous dependencies, methodically assesing and organizing psychological resourcess for the service and benefit of the individual psychological life, as understood by their own given cognitive preferences. Thus it is a constructivistic apporach towards reality accounting for the participation of self in the building and development of self.\n",
        "\n",
        "Psyhence Socionics Model studies cognitive forms leading to personality divergences, as well as tendencies within human beings (and living systems), as promoted by the enduring characteristics, behavior and attitudes, that comprise a person's unique adjustment to life, including major traits, thematical interests, drives, values, self-concept and possible abilities, as well as typical ways thinking, manner of communication and traditional emotional patterns."
      ],
      "metadata": {
        "id": "xYOSy-Nkt_BB"
      }
    },
    {
      "cell_type": "markdown",
      "source": [
        "<a class=\"anchor\" id=\"libraries\"></a>\n",
        "## Libraries"
      ],
      "metadata": {
        "id": "u5WifhmdJflh"
      }
    },
    {
      "cell_type": "code",
      "source": [
        "#libraries\n",
        "import pandas as pd\n",
        "import numpy as np\n",
        "import matplotlib as mpl\n",
        "import matplotlib.pyplot as plt\n",
        "import seaborn as sns\n",
        "import plotly.graph_objects as go\n",
        "import plotly.express as px\n",
        "from mpl_toolkits.mplot3d import Axes3D\n",
        "\n",
        "%matplotlib inline"
      ],
      "metadata": {
        "id": "D0aoGvsnNDO4"
      },
      "execution_count": null,
      "outputs": []
    },
    {
      "cell_type": "markdown",
      "source": [
        "<a class=\"anchor\" id=\"aspects\"></a>\n",
        "## **Aspects of Reality**"
      ],
      "metadata": {
        "id": "etnARAZmn-nD"
      }
    },
    {
      "cell_type": "markdown",
      "source": [
        "### **Aspects (Metainformation)**\n",
        "\n",
        "Aspects are arrays of metainformation describing fundamental properties of reality which can be apperceived as information by the psyche. These arrays carry categorical metadata about the information aspects, that a human being can interact with and metabolize via psychophysical and psychological means into cognitive information elements.  \n",
        "\n",
        "Aspects are arranged according to the output and interaction of 3 precognitive attributes: 1) Orientation towards Otherness (OtO), 2) Method of Information Gain (MIG) and 3) Focus of Validation (FoV). These 3 fundamental dimensions strive for simplicity, reducing uncertainty by providing synthetical products of their inteaction 3D matrix, which accounts for the agglomeration of such dimensions for the service of both inividual and group oriented dynamics.\n"
      ],
      "metadata": {
        "id": "RmioTe8jLzLQ"
      }
    },
    {
      "cell_type": "markdown",
      "source": [
        "###**Metadata Matrix about Information Aspects:**"
      ],
      "metadata": {
        "id": "A6o1JeYvByUm"
      }
    },
    {
      "cell_type": "code",
      "source": [
        "# Create the figure and the 3D subplot\n",
        "fig = plt.figure(figsize=(10, 12))\n",
        "ax = fig.add_subplot(111, projection='3d')\n",
        "\n",
        "# Set the coordinate limits\n",
        "ax.set_xlim([-1, 1])\n",
        "ax.set_ylim([-1, 1])\n",
        "ax.set_zlim([-1, 1])\n",
        "\n",
        "# Set the labels for each axis\n",
        "ax.set_xlabel('Orientation to Otherness\\n(Field ↔ Object)')\n",
        "ax.set_ylabel('Information Gain Method\\n(Clustering ↔ Sequencing)')\n",
        "ax.set_zlabel('Validation Focus\\n(Implicit ↔ Explicit)')\n",
        "\n",
        "# Annotate each axis at their extremes\n",
        "ax.text(1.1, 0, 0, 'Object', color='red')\n",
        "ax.text(-1.1, 0, 0, 'Field', color='green')\n",
        "ax.text(0, 1.1, 0, 'Sequence', color='purple')\n",
        "ax.text(0, -1.1, 0, 'Cluster', color='yellow')\n",
        "ax.text(0, 0, 1.1, 'Explicit', color='blue')\n",
        "ax.text(0, 0, -1.1, 'Implicit', color='orange')\n",
        "\n",
        "# Plot the origin point\n",
        "ax.scatter(0, 0, 0, color='gray')\n",
        "\n",
        "# Draw dotted lines between the extremes of each axis\n",
        "ax.plot([-1, 1], [0, 0], [0, 0], linestyle=':', color='gray') # X-axis\n",
        "ax.plot([0, 0], [-1, 1], [0, 0], linestyle=':', color='gray') # Y-axis\n",
        "ax.plot([0, 0], [0, 0], [-1, 1], linestyle=':', color='gray') # Z-axis\n",
        "\n",
        "# Example data points to visualize\n",
        "data = {'Explicit Object Sequencing': [0.3, 0.7, 0.7],\n",
        "        'Implicit Field Clustering': [-0.7, -0.25, -0.7]}\n",
        "\n",
        "# Plot the data points and add dotted lines to the origin\n",
        "for key, value in data.items():\n",
        "    ax.scatter(value[0], value[1], value[2], label=key)\n",
        "    ax.text(value[0], value[1], value[2], key, color='black')\n",
        "\n",
        "\n",
        "# Display the legend\n",
        "ax.legend()\n",
        "\n",
        "# Show the plot\n",
        "plt.show()\n",
        "\n",
        "\n",
        "# Display the legend\n",
        "ax.legend()\n",
        "\n",
        "# Show the plot\n",
        "plt.show()\n"
      ],
      "metadata": {
        "colab": {
          "base_uri": "https://localhost:8080/",
          "height": 811
        },
        "id": "hMtjvNZnMUzv",
        "outputId": "e0d1524e-7d49-485a-8cc5-9f6c01d316db"
      },
      "execution_count": null,
      "outputs": [
        {
          "output_type": "display_data",
          "data": {
            "text/plain": [
              "<Figure size 1000x1200 with 1 Axes>"
            ],
            "image/png": "[encoded data removed]"
          },
          "metadata": {}
        }
      ]
    },
    {
      "cell_type": "markdown",
      "source": [
        "<a class=\"anchor\" id=\"1-dimension\"></a>\n",
        "###**1st Dimension: Orientation towards Otherness**\n",
        "Subject, Object and Field\n",
        "\n",
        "\n"
      ],
      "metadata": {
        "id": "BXJAHjd_QgdA"
      }
    },
    {
      "cell_type": "markdown",
      "source": [
        "**ALL-SELF** is a **Sameness** *a priori* dimension of being where an approach towards the limit of infinite supraconsciousness can be considered. Within such a dynamic synthetical tendency towards an absolute conscious dimension, **Otherness** can be considered as approaching towards Sameness. That is, by integrating the Other (the object of \"Not Me\") into ever higher dimensional Selves (objects of \"Me\"). Via an act of dialectical synthesis, into ever wiser objects of self-reference (living libraries), never really reaching Sameness but consciously finding parametrical means of reference for Fields of **becoming**.\n",
        "\n",
        "In other words: Otherness is tendentially becoming sameness as a function of consciousness, with the purpose of reducing perplexity within such given growing system of self-reference (self-aware), bringing about certainty for the Self as a function of knowledge (information gain) about the interaction with the Other. Knowledge is defined as the conscious gain of information that guides any system of self-reference towards a potential state of certainty within its constructive web of self-determination. Reducing uncertainty about the universe, is amounting for both, knoweldge about the self and knowledge about the other, but also knowledge about the psychoinformational space, which accounts for the field of reference where this informaton can be cognized.\n",
        "\n",
        "Entropy (or information content), can be understood as a function \"depicting the quantity of decay from sameness into otherness\", which is amounting for the systems possible uncertainty under the given conditions.\n",
        "This means that consciousness could be quantified in terms of information gain, as a meassure for the inverse of entropy (or information content), which tendentially seeks to nullify distortions of the information loss, relative to the cosmological decay.  \n",
        "\n",
        "**Otherness** is a fundamental ontological property within the field of consciousness, that is, of any (living) system which can achieve any level of self-awareness. It essentially frames the possibility of Self as a limiting antithetical factor, or boundary constrain. Meaning otherness is an inherent and trascendental factor within human experience, allowing for self-awareness to rise within the individual frame of reference (\"I am\") of any and every human being. Identity is formed both by approaching towards and distancing from otherness; both aspects conducing probabilistcally towards information gain. We associate the conscious Self, or the individual frame of reference, as the EGO block of consciousness, which is mentaly weighting and directing the living accordingly for decision making.\n",
        "\n",
        "Following thus that Otherness is both, any explicit or implicit boundary which allows for Self to become an Object. The moment otherness is apperceived via interaction between objects (any Field of reference), those objects attain: 1) the Object Class, which is, in psychoinformational terms amounting for self-referent quanta and qualia (as a part of the interactive field), while they also achieve: 2) the Subject Class which involves the tendential apperception of any self-referential frame (\"ME\") for any object, as the resultant of the process of differentiation, following the feedback exchange with otherness. It follows that 2) the Subject class thus can have a tendency towards approaching the objects of otherness, as well as distancing from them probabilistically in accordance of the apperceived information gain, attained via the ontological experience of the other."
      ],
      "metadata": {
        "id": "Dg7fA1r0nX-E"
      }
    },
    {
      "cell_type": "markdown",
      "source": [
        "<a class=\"anchor\" id=\"object-field\"></a>\n",
        "#### **Object** vs **Field**"
      ],
      "metadata": {
        "id": "MBoiig3Kutsb"
      }
    },
    {
      "cell_type": "markdown",
      "source": [
        "**Objects** of perception and cognition are categorically defined as favored properties(aspects) of reality whenever a tendency for the apperception of information as independent bodies or sets of data is conducted/observed. An object can be seen as a collection of attributes that allow for an entity to be differentiated from others. Object can be animated or not (i.e a book as a body of knowledge). Objects can become the center of attention, can act or be acted upon, can be concrete or virtual, as well as interact and change or remain relaitively stable resisting deformation.\n",
        "\n",
        "The apperception of Objects carries a fundamental psychological and psychophysical distanciation from the apperception of self. In terms of attention, the self is negated in order to cognize that *otherness*, resulting in a psychological and psychophysical approach towards *objective* reality. That is, the fundamental idea of ontological attribuition (that which is) and thus towards that which can be relied upon (epistemological attribuition) as being grounded in the object (or the object's essence).\n",
        "\n",
        "This means for someone whose psyche is invested into objects, that their identity cannot be separated from that which is representing themselves; that is in the most external form: their physical body; however it can also be a mental-body, an emotional body, or a body of knowledge. But in general the apperception of objects leads towards interest in bodies, what they are, how they behave, what's their potential, and so on.\n",
        "\n",
        "Thus and summarizing the apperception of **objective aspects of reality** is experienced/metabolized through what we call **Extroverted Elements** due to the fact that energy is being invested outwards, dissociating from the self and being redistributed expansively to process the world of objects."
      ],
      "metadata": {
        "id": "ETZrrJkjLQoQ"
      }
    },
    {
      "cell_type": "markdown",
      "source": [
        "**Fields** are defined as spaces, conditions or contexts for and about interactions between objects, and can be considered as \"interactive entities\" themselves (aka bodies of reference). Fields represent the transcendental interconnectivity factor of comparison, or attribuitional space that allows for the parametrization of interdependency between factors. That is, fields reveal rather an associative tendency towards the apperception of information. Simply put, fields are fundamentally interdependent sets of data, usually relating information between objects.\n",
        "\n",
        "From an objective apporach, While an object serves as an entity which carries information about reality, fields can be understood as methods that objects can be subject to in order to recognize, evaluate, transform and experience themselves. Such information produced within the space of interaction is accounted and stored under the field's psychoinformational space(i), according to the nature of the given data (i.e in clusters, networks, sequences). The nature of the relatuvuty of fields amount for the potential of the individual topological cognitive deformation regarding the subjective apperception about reality.\n",
        "\n",
        "In other words, the apperception of Fields carries a fundamental psychological and psychophysical approach towards self, and thus a distanciation from the object of reality as a separate entity. This means whenever a field is being observed or evaluated there is always a consideration of relativity of the factors included or interacting in accordance to such apperception.\n",
        "\n",
        "As such, the involvement of self, a **relative aspect of reality** is experienced/metabolized through **Introverted Elements** following that the energy is invested either in a cyclical, retrospective, retractive or regressive form, in function of the subjective interaction."
      ],
      "metadata": {
        "id": "bA4xyzJLZcWD"
      }
    },
    {
      "cell_type": "markdown",
      "source": [
        "<a class=\"anchor\" id=\"orientation\"></a>\n",
        "#### **Orientation (towards Otherness)**"
      ],
      "metadata": {
        "id": "HTktTBoluzJr"
      }
    },
    {
      "cell_type": "markdown",
      "source": [
        "**Orientation towards Otherness**: 1st boundary of differentiation. Fear draws the ontological line.\n",
        "\n",
        "*Orientation towards Otherness* is a precognitive attribute which triggers energy metabolism as a result of, or in order to, direct(ing) attention towards an object or field of apperception.\n",
        "Attention can be towards an actual tangible or concrete stimulus, such as light,sound or sensation, but also a virtual, indirect or implicit one, such as a memory, an idea or imagination triggered by any kind of experience.\n",
        "\n",
        "As a result of this fundamental energetical process, all forms of Information Aspects involving their respective aspects of reality are fed with their given data, and processed as per Information Metabolism into Information Elements of the psyche that can be cognized. Following the principle of selective attention(in function of owned resources), Orientation grants energy to the given cognitive process strategically, by feeding those elements the most which are more effective to compound and solve the given problem. Naturally, given enough experience a favored set is tendentially manifested, until a local level of psychological stability can be considered. Meaning that Orientation is the first natural trigger in terms of motivation, to activate energy metabolism following a bio-psychological incentive in the following manner:\n",
        "\n",
        "* Orientation towards Objects charges an Information Aspect with Extraverted data, that is information deduced or implied from the energy investment into Objects or Entities. Orientation towards objects represents an approach towards the main ontological problem, uncertainty (complete ignorance at first) about existance, helping one to accomodate in terms of how to handle/ manage the fear towards the natural challenge presented to a living system by the outer world.\n",
        "The strategy of the extrovert is to apporach the world: to know and to conquer the uncertainty of explicit threats, to discover and reveal the uncertainty implicit in otherness.\n",
        "\n",
        "* Orientation towards Fields feeds Information Aspects with Intraverted data, that is information associated or  :from how energy is invested into Fields or Relationships."
      ],
      "metadata": {
        "id": "ukBQjK1gUVrP"
      }
    },
    {
      "cell_type": "code",
      "source": [
        "OtO ={'attribute':'orientation',\n",
        "      'info_aspect':['object','field'],\n",
        "      'cog_aspect':['entifying','identifying'],\n",
        "      'psych_aspect':['extraverted','introverted'],\n",
        "      'energy_mod':['approach to otherness','abstract from otherness']\n",
        "      }\n",
        "OtO"
      ],
      "metadata": {
        "colab": {
          "base_uri": "https://localhost:8080/"
        },
        "id": "0Xuv0ocjLp-0",
        "outputId": "9ab4690c-053d-483e-cfe1-06f1f5eb4981"
      },
      "execution_count": null,
      "outputs": [
        {
          "output_type": "execute_result",
          "data": {
            "text/plain": [
              "{'attribute': 'orientation',\n",
              " 'info_aspect': ['object', 'field'],\n",
              " 'cog_aspect': ['entifying', 'identifying'],\n",
              " 'psych_aspect': ['extraverted', 'introverted'],\n",
              " 'energy_mod': ['approach to otherness', 'abstract from otherness']}"
            ]
          },
          "metadata": {},
          "execution_count": 18
        }
      ]
    },
    {
      "cell_type": "markdown",
      "source": [
        "<a class=\"anchor\" id=\"2-dimension\"></a>\n",
        "### **2nd Dimension: Information Gain Method**\n",
        "Sequencing dynamics & Clustering statics\n",
        "\n"
      ],
      "metadata": {
        "id": "F7f0SYV1LcGT"
      }
    },
    {
      "cell_type": "markdown",
      "source": [
        "Following the notion that the very ontological role of consciousness is to provide for frames of reference (which are quantitatively inversly proportional to entropical conditions, or probabilistic information content at any given moment), which strive to reduce uncertainty, we can assume that cognition is organized in such a way that it is securing **information gain**, by maximizing the optimal local resource management for this very purpose. That is, making sense of, or finding a pattern for- any kind of information (aiming to reduce uncertainty) is considered to be the main (*a priori*) goal of developing cognitive (*a posteriori*) methods for organizing energy, information and stimuli recognition. As a consequence of this we can consider that information is mostly distributed (if any of organized way applies) in either static (discrete or quatified) or dynamic (continuos or probabilistic) trends.\n",
        "\n",
        "The two main fundamental manners of organizing information are thus **sequencing** (for *dynamic tendencies*) and **clustering** (for *static patterns*).\n",
        "By sequencing we understand the cognitive ability to follow a methodology of sorting and make sense of information according to a continuous causal relationship between instances of observations and/or in-between events. Meaning that, how and why A leads to B is an information aspect carried by such an Information Element which is amounting for sequential dynamic tendencies.\n",
        "In contrast to this aspect, we understand by clustering, as any cognitive method that implies sorting and making sense of information in function of discrete and correlated proximal instances and/or sets of reference. It follows that how and why A corresponds B is an information aspect which is carried by any IME that is qualifying as per categorical static patterns.\n"
      ],
      "metadata": {
        "id": "1mgRw9OnqRCy"
      }
    },
    {
      "cell_type": "markdown",
      "source": [
        "<a class=\"anchor\" id=\"dynamic-static\"></a>\n",
        "#### **Dynamic** vs **Static**"
      ],
      "metadata": {
        "id": "m3G5SBsbucBo"
      }
    },
    {
      "cell_type": "markdown",
      "source": [
        "**Dynamic** aspects of reality render information about the quantity, magnitude, intensity or measure of bodies and their fields of interaction. Furthermore they reduce information to its continuity elements, so that such observations and evaluations can be applied. They focus on processing and accounting for changing, evolving or transforming factors.\n",
        "\n",
        "**Dynamics** are defined as a tendency for the apperception of change. The apperception of continuous, flowing data. That is, how and why are bodies and fields conditionally and consecutively transforming, giving place and manifesting into sequences of affections and effects, giving place to the notion and experience of time and the awareness of now .\n",
        "\n",
        "Dynamics involve a psychophysical approach towards the experience of events, and consideration of eventualities, coupled with a psychological approach towards means for action and motivation.  \n",
        "\n",
        "The **dynamic aspect of reality** can thus be metabolized/experienced through both **Rational** and **Irrational Elements.**\n",
        "\n",
        "In particular **Objective Change** can be noticed and assessed by *Extroverted Rational Elements*, which provide means for action and motivation to respond to the demand of change according to **thinking and feeling modules**.\n",
        "\n",
        "**Relative Change** can be rather processed and considered by *Introverted Irrational Elements*, which provide a context for assesment of change according to relative apperception and adaptation towards time(rhythm) and space(homeostasis) thorugh **sensory and intuitive modules**."
      ],
      "metadata": {
        "id": "-fEX0iv-eng-"
      }
    },
    {
      "cell_type": "markdown",
      "source": [
        "**Statics**, on the other hand, are defined as a tendential apperception of stability. The apperception of discrete categorical or topographical data. That is, data about how and why bodies and fields have inert and or consistent properties and characteristics, giving place to means of recollection and catalogation of data. Statics allow for the consolidation of form and in mental terms the conceptualization of meaning. Statics reflects apperception of stasis, a tendency for the recognition of states, boundaries, building blocks, relationships and properties of fields and bodies. A tendency to evaluate the qualitative measures that describe, restrict and reveal practical and potential value, as well as explicit and implicit norms to conform, force, approach or relate to the apperceived qualia.\n",
        "\n",
        "Statics involve a psychophysical distanciation from self to attend upon the object from a raw categorical perspective, coupled with a psychological approach towards self-oriented means for evaluation of the given categories or dissections.\n",
        "\n",
        "The **static aspect of reality** thus can be experienced/metabolized by both **Rational** and **Irrational Elements.**\n",
        "\n",
        "In peculiar **Objective Stability** can be attended and alluded by *Extroverted Irrational Elements*, which allow to peer at and into objects, in order to notice and discover stable characteristics and properties.\n",
        "\n",
        "**Relative Stability** is rather, correlated and hierarchized by *Introverted Rational Elements*, which provide for means of structurization and validation of given parameters, standards and values."
      ],
      "metadata": {
        "id": "biUdGk0W19Bq"
      }
    },
    {
      "cell_type": "markdown",
      "source": [
        "<a class=\"anchor\" id=\"info-gain\"></a>\n",
        "#### **Method (of Information Gain)**"
      ],
      "metadata": {
        "id": "LlhH2SBmuDSl"
      }
    },
    {
      "cell_type": "markdown",
      "source": [
        "**Information Gain Method** is a precognitive attribute which triggers biorythmical cycles of energy metabolization from and for directing attention towards the spectrums of stasis or change.\n",
        "Psychologically it corresponds to the rate of adaptability and flexibility of a being towards incomming information. In terms of energy it amounts for the rate at which energy cycles deem to be at disposal for the being to persist in change or stasis, in order for an Information aspect to be metabolized into an Information Element.\n",
        "That is, in terms of information, it amounts for the rate at which data is being refreshed/reviewed, followed by the evaluation and arrangment of such data within the boundaries of Information Aspects. Dynamic aspects consider more data, in a continuous manner, and may be prone to ignore certain details about it according to its method of metabolization, in order to integrate the variance of it, or otherwise may integrate the aspects slowly, amounting for the quantitative significance (overall apperceived reliability) of data.\n",
        "On the other hand Static aspects concentrate on the quality of less data to gather a detailed discrete correspondance or a more accurate classification, and thus hesitate on the integration of data towards their more stable systems, but also may otherwise be faster at considering evidently classified value in data as possible, via quick induction due to the stability of their position (this fits, this doesn't).\n",
        "\n",
        "In terms of energy, dynamic methods of information gain have a rather variable, situational, or temporal disposition towards investment of energy, whereas static MoIG have a tendency towards discrete states of work vs relaxation, which are more stable but not necessarily rutinary.\n",
        "\n",
        "A static apporach may take a strategic stance, with a clear objective (Chess) or otherwise consider a tactical position with high potential (Go), of main relevance to gain advantage, to guide actions and decison making.\n",
        "Whereas a dynamic apporach will rather use an adaptable strategy with flexible goals that account for changing circumstances, and consider mobility(Go) and timing (Chess) as a main factor for tactical operations, rather than raw positioning.\n",
        "\n",
        "A **dynamic MoIG** loads variable, rather dependent or continuous data into an information aspect, which is information about the kinds and amounts of change processed by a field or object. Accounting for how information is sequenced.\n",
        "\n",
        "A **static MoIG** stocks constant, rather independent or discrete data into information aspects, which is information about the stability or quality of categorical values about objects or fields. Accounting for how the information is clustered.\n",
        "\n",
        "**Information Gain** is all about attaining the most *Reliable* **Method**.\n",
        "\n",
        "Dynamics rely on sequential methods that amount for *probability*, while Statics rely on categorical systems that dictate *possibility*."
      ],
      "metadata": {
        "id": "VR-As2tbdpVV"
      }
    },
    {
      "cell_type": "code",
      "source": [
        "MoIG ={'attribute':'IG_Method',\n",
        "      'info_aspect': ['dynamic','static'],\n",
        "      'cog_aspect':['sequencing','clustering'],\n",
        "      'psych_aspect':['adaptable','adamant'],\n",
        "      'energy_mod':['flux management','fixed disposition']\n",
        "      }\n",
        "MoIG"
      ],
      "metadata": {
        "colab": {
          "base_uri": "https://localhost:8080/"
        },
        "id": "bG6Rvu0IPX7y",
        "outputId": "58e54cfa-a776-41b8-9143-96d46a7b3341"
      },
      "execution_count": null,
      "outputs": [
        {
          "output_type": "execute_result",
          "data": {
            "text/plain": [
              "{'attribute': 'method',\n",
              " 'info_aspect': ['dynamic', 'static'],\n",
              " 'cog_aspect': ['sequencing', 'clustering'],\n",
              " 'psych_aspect': ['adaptable', 'adamant'],\n",
              " 'energy_mod': ['flux management', 'fixed disposition']}"
            ]
          },
          "metadata": {},
          "execution_count": 1
        }
      ]
    },
    {
      "cell_type": "markdown",
      "source": [
        "<a class=\"anchor\" id=\"3-dimension\"></a>\n",
        "### **3rd Dimension: Validation Focus**\n",
        "Explicit (Exteriorization) & Implicit (Interiorization)"
      ],
      "metadata": {
        "id": "sUec7CxbLjxq"
      }
    },
    {
      "cell_type": "markdown",
      "source": [
        "Under the preamble of Ontological fear and thus directing Epistemological effort towards reliable Methods of Information Gain, the aspiration towards consistency becomes ever more evident and necessary. Reliable methods reduce uncertainty, but the question of validity remains open. In order to end this, a new dimension of consistency is incorporated into precognitive attribuition: **Focus of Validation (FoV)**\n",
        "Reliability can only gain Validity from a focus towards internal or external consistency along the axis of explicit vs implicit means of verification.\n",
        "As a consequence the final step of precognitive attribuition lands in a **Focus of Validation (FoV)** which directly and fundamentally impacts sequencing and clustering approaches, towards objects and fields."
      ],
      "metadata": {
        "id": "dKriLIPN9FUc"
      }
    },
    {
      "cell_type": "markdown",
      "source": [
        "<a class=\"anchor\" id=\"external-internal\"></a>\n",
        "####**External** vs **Internal**"
      ],
      "metadata": {
        "id": "sxwpiiiKhdWN"
      }
    },
    {
      "cell_type": "markdown",
      "source": [
        "The **External** aspect is defined as a tendency for the apperception of explicit or evident changes and stability in both, entities or the relationships between them. That is, data regarding how and why are change and stasis factors represented, or realized into what objects and/or fields, that can be attended or measured from a concrete or tangible approach.\n",
        "\n",
        "It is the most verifiable and reliable level of realization and communication, representing the closest psychophysical level towards concrete experience and sound judgment.\n",
        "\n",
        "It is a psychological distanciation from the subjective factor. Leading to a rational approach towards a measureable and concrete representation of reality, coupled with a psychophysical approach towards raw, tangible and immediate\n",
        "sensory experience.\n",
        "\n",
        "Thus all **external aspects of reality** can be experienced/metabolized by both **Sensing** and **Logical Elements**.\n",
        "\n",
        "In concrete, **external rational** data, both static and dynamic, is processed by modules of **Thinking**, which seek for validation on the tangible or impersonal measures.\n",
        "\n",
        "While static and dynamic **external irrational** data, is procecced and experienced through modules of **Sensing**, which demand contact with the material, sensory world."
      ],
      "metadata": {
        "id": "hiK7-y_6s_rj"
      }
    },
    {
      "cell_type": "markdown",
      "source": [
        "Meanwhile the **Internal** aspect is defined as a tendency towards the apperception of implicit or apparent data, stemming or deriving from both objects and fields. It involves a distanciation from the direct experience towards an abstract or general approach. That is, how and why change and stasis are indicated by and derived from data that can only be estimated or approached from objects or fields under the consideration of a private or priviledged, rather local or secluded perspective.\n",
        "\n",
        "It involves both a psychophysical and psychological extension of self towards the object or field of attribuition. It is the most abstract and complex level of identification and communication, representing the closest psychological level towards abstract experience and judgment.\n",
        "\n",
        "It is a psychophysical distanciation from the object tangled with a psychological approach towards the subject. Following as such a meaningful and individual-centered representation of reality.\n",
        "\n",
        "Thus all **internal aspects of reality** can only be metabolized/experienced thorugh **Intuition** and **Feeling Elements**.\n",
        "\n",
        "Specially **internal irrational** data is processed by modules of **Intuition**, that scan into fields and objects for inherent properties and suggestive tendencies.\n",
        "\n",
        "While **internal rational** data is sorted and recognized by modules of **Feeling**, which connect with fields and objects via personal relationships and subjective motives."
      ],
      "metadata": {
        "id": "osTOVCPL2IS6"
      }
    },
    {
      "cell_type": "markdown",
      "source": [
        "<a class=\"anchor\" id=\"focus\"></a>\n",
        "####**Focus (of Validation)**"
      ],
      "metadata": {
        "id": "RoUmTM-u6t4g"
      }
    },
    {
      "cell_type": "markdown",
      "source": [
        "**Focus** is a precognitive attribute that triggers energy metabolism from and for directing attention towards internal or external factors, that is, to facilitate evident or inherent accuracy. The main objective of focus is to secure information gain and lower entropy, by securing deployment of energy towards compatible and consistent data. Psychologically it determines the distance of involution with or detachment from the event or state.\n",
        "\n",
        "An external focus controls detached, concrete data into information aspects for deductive validation, which is information about the tangible and explicit factors as evidenced by objects or fields.\n",
        "\n",
        "An internal focus leads involved, inherent data towards information aspects for inductive validation, that is information about the holistic and intrinsic factors as implied by objects or fields.  \n",
        "\n",
        "**Focus** is all about a predisposition towards relevant factors that aim for accuracy. The very purpose of such filter is to reduce cognitive dissonance between the subject and the incomming stream of data following its orientaton and MoIG, securing the apperception of information along the same lines of uniformity, for it to be considered and evaluated according to its categorical proximity, and for a system or method to be able to extract valid meassures. This secures even under unsupervsied learning, that a subject keeps clustering and sequencing information that is similar to each other and avoid unintelligible comparissons of inequiparable information."
      ],
      "metadata": {
        "id": "rP6TUByV_UYJ"
      }
    },
    {
      "cell_type": "code",
      "execution_count": null,
      "metadata": {
        "colab": {
          "base_uri": "https://localhost:8080/"
        },
        "id": "rCtgizd4LjMJ",
        "outputId": "e26518de-5f89-48c2-f9ee-017c217798fc"
      },
      "outputs": [
        {
          "output_type": "execute_result",
          "data": {
            "text/plain": [
              "{'attribute': 'focus',\n",
              " 'info_aspect': ['external', 'internal'],\n",
              " 'cog_aspect': ['explicit', 'implicit'],\n",
              " 'psych_aspect': ['extrospective', 'introspective'],\n",
              " 'energy_mod': ['externalization', 'internalization']}"
            ]
          },
          "metadata": {},
          "execution_count": 12
        }
      ],
      "source": [
        "FoV = {'attribute':'focus',\n",
        "       'info_aspect':['external','internal'],\n",
        "       'cog_aspect':['explicit','implicit'],\n",
        "       'psych_aspect':['extrospective','introspective'],\n",
        "       'energy_mod':['externalization','internalization']\n",
        "       }\n",
        "FoV"
      ]
    },
    {
      "cell_type": "markdown",
      "source": [
        "<a class=\"anchor\" id=\"cognitive\"></a>\n",
        "## **Cognitive Attribuition**"
      ],
      "metadata": {
        "id": "6CERZDX08g3R"
      }
    },
    {
      "cell_type": "markdown",
      "source": [
        "**Precognitive Attribuition Channels**\n",
        "\n",
        "Precognitive attribuition is the primordial ability of any system (i) with the capacity of self-awareness to become primed towards information metabolism(processing) in such a way that it fosters **Epistemological Ease**. Through precognitive attribuition major amount of informational noise, both present as sensory and abtract stimuli, is filtered across structurally possible ways of cognizing it, allowing for the accumulation, integration and management of knowledge in function of such favored bodies and fields of information metabolism. We use here the word metabolism to account for a vital, energetically oriented method, that both transforms and extracts information, such that it can be processed by the system (i) in question. In such a way Information metabolism is a method that promotes epistemological ease.\n",
        "To make sure of this, such epistemological ease is fitted in accordance to the local **Ontological Fear** towards otherness. The process of precognitive attribuition is mediated by the locally primed observation of the ontological and epistemological aspects of any system (i).  Both ontological and epistemological components of reality are aspected in function of the magnitude of self-awareness (**consciousness**) of any such system (i), which is amounting for its capacity of integrating retroactive feedback into the systems modus operandi (learning). Any such corrections within the modus openandi of a system (i) is evidence of adaptation towards such needs/ stimuli: learning via intelligence. It is reasonable to state that a system (i) can act (or not) intelligently in function of accumulated (body of) knowledge as compiled by IME, about the self and otherness, and in respect of the field of interaction where such knowledge can be used.\n",
        "At any moment within self-awareness, the fundamental epistemological state of ignorance upon the unknown, leading towards a sense of uncertainty for any system (i), is also fed by the ontological fear towards otherness, where both the epistemological and the ontological demands of that system intersect, in function of consciousness (self-awareness of the system).\n",
        "\n",
        "The process of precognitive attribuition follows thus both an **Orientation towards Otherness (OtO)** (in function of the ontological fear) intersected with a **Method of information Gain(MoIG)** (in function of the epistemological ease), and it is considered precognitive, because it leads towards the possibility of cognition. This two-factorial process of attribuition allows for the local, efficient modulation of energy within the system (i) and leads towards the emergence and experience of temperamental features and characteristics.\n",
        "\n",
        "Precognitive attribuition is the most primigenial and fundamental level of cognition, as the first stage of information metabolism; it allows for the psyche to process in parallel all kinds of data with the greatest amount of flexibility and scalability, as well as to invest vital and cognitive energy the most efficient or effective manner. Being at the core psychophysiological level, precognitive attribuition is embodied via temperamental tendencies which can be considered to be mostly stable on the long run, but can adapt depending on the necessities of the system (i), as well as by the development of character, given that, all kinds of knowledge strive for provisioning the self with intelligent advantage over events and life situations.\n",
        "\n",
        "By filtering data through precognitive attribuition, metadata about aspects of reality can be channeled through a cognitive primal pipeline which, in a rather impicit manner, metabolizes, sorts and normalizes all metainformation into consistent information aspects for the psyche to evaluate. By including such a filter of validation within the precognitive attribuitional pipeline, metainformation can be compiled with a higher probability of being reliable (as long as such focus of validation is honored) before rising as informational components of the psyche.  \n",
        "Evaluation is then incorporated as the final step of precognitive attribuition, by adopting a **Focus of Validation (FoV)**.\n",
        "Both **OtO** and **MoIG** attribuitional filters aspire to minimize uncertainty and cognitive dissonance.  By incorporating a validation method in the precognitive state, metainformation across the primal cognitive pipeline can be arranged to acquire sufficient metalevels of differentiation and thus higher levels of reliability or accuracy.\n",
        "\n",
        "In summary, Orientation (towards Otherness), IG Method and Focus (of Validation), represent each of the 3 minimal cognitive dimensions required for any information aspect to be traced and filtered from reality. Which then by means of information metabolism modules can be allocated and transformed into information elements of the psyche.\n",
        "\n",
        "They serve both as motivational methods and circuitry, by which the psyche chooses to invest energy towards primordial possibilities of cognition. It is a 3 dimensional matrix of binary means for orientating, focusing and administrating cognitive energy.\n",
        "\n",
        "They are both fundamental metainformative categories and transcendental cognitive operations manifested by any human being (or otherwise self-aware information system (i)).  "
      ],
      "metadata": {
        "id": "Sd3c3cSLvrpN"
      }
    },
    {
      "cell_type": "markdown",
      "source": [
        "### 1st-Tier Attribuition\n",
        "* Orientation to Otherness (**OtO**)\n",
        "* Method of Information Gain (**MoIG**)\n",
        "* Focus of Validation (**FoV**)"
      ],
      "metadata": {
        "id": "e16aAx05NSJY"
      }
    },
    {
      "cell_type": "markdown",
      "source": [],
      "metadata": {
        "id": "VItbyZLJNRzr"
      }
    },
    {
      "cell_type": "code",
      "source": [
        "attributes1 = [OtO,MiG,FoV]\n",
        "attributes1_df = pd.DataFrame(attributes)\n",
        "attributes1_df.set_index('attribute',inplace=True)\n",
        "attributes1_df.index.name = 'Attribuition Channel'\n",
        "attributes1_df"
      ],
      "metadata": {
        "colab": {
          "base_uri": "https://localhost:8080/",
          "height": 175
        },
        "id": "SjlIhNEDOwBd",
        "outputId": "5f2383b8-d0bf-40d3-bb70-599b30d7b8de"
      },
      "execution_count": null,
      "outputs": [
        {
          "output_type": "execute_result",
          "data": {
            "text/plain": [
              "                               info_aspect                 cog_aspect  \\\n",
              "Attribuition Channel                                                    \n",
              "orientation                [object, field]  [entities, relationships]   \n",
              "method                   [dynamic, static]   [sequencing, clustering]   \n",
              "focus                 [external, internal]       [explicit, implicit]   \n",
              "\n",
              "                                            psych_aspect  \\\n",
              "Attribuition Channel                                       \n",
              "orientation           [extravertedness, introvertedness]   \n",
              "method                              [adaptable, adamant]   \n",
              "focus                     [extrospective, introspective]   \n",
              "\n",
              "                                                            energy_mod  \n",
              "Attribuition Channel                                                    \n",
              "orientation           [approach to otherness, abstract from otherness]  \n",
              "method                          [flux management, fixed distribuition]  \n",
              "focus                               [externalization, internalization]  "
            ],
            "text/html": [
              "\n",
              "  <div id=\"df-a3ea7b6c-1130-4c12-a495-054f7455fd5a\" class=\"colab-df-container\">\n",
              "    <div>\n",
              "<style scoped>\n",
              "    .dataframe tbody tr th:only-of-type {\n",
              "        vertical-align: middle;\n",
              "    }\n",
              "\n",
              "    .dataframe tbody tr th {\n",
              "        vertical-align: top;\n",
              "    }\n",
              "\n",
              "    .dataframe thead th {\n",
              "        text-align: right;\n",
              "    }\n",
              "</style>\n",
              "<table border=\"1\" class=\"dataframe\">\n",
              "  <thead>\n",
              "    <tr style=\"text-align: right;\">\n",
              "      <th></th>\n",
              "      <th>info_aspect</th>\n",
              "      <th>cog_aspect</th>\n",
              "      <th>psych_aspect</th>\n",
              "      <th>energy_mod</th>\n",
              "    </tr>\n",
              "    <tr>\n",
              "      <th>Attribuition Channel</th>\n",
              "      <th></th>\n",
              "      <th></th>\n",
              "      <th></th>\n",
              "      <th></th>\n",
              "    </tr>\n",
              "  </thead>\n",
              "  <tbody>\n",
              "    <tr>\n",
              "      <th>orientation</th>\n",
              "      <td>[object, field]</td>\n",
              "      <td>[entities, relationships]</td>\n",
              "      <td>[extravertedness, introvertedness]</td>\n",
              "      <td>[approach to otherness, abstract from otherness]</td>\n",
              "    </tr>\n",
              "    <tr>\n",
              "      <th>method</th>\n",
              "      <td>[dynamic, static]</td>\n",
              "      <td>[sequencing, clustering]</td>\n",
              "      <td>[adaptable, adamant]</td>\n",
              "      <td>[flux management, fixed distribuition]</td>\n",
              "    </tr>\n",
              "    <tr>\n",
              "      <th>focus</th>\n",
              "      <td>[external, internal]</td>\n",
              "      <td>[explicit, implicit]</td>\n",
              "      <td>[extrospective, introspective]</td>\n",
              "      <td>[externalization, internalization]</td>\n",
              "    </tr>\n",
              "  </tbody>\n",
              "</table>\n",
              "</div>\n",
              "    <div class=\"colab-df-buttons\">\n",
              "\n",
              "  <div class=\"colab-df-container\">\n",
              "    <button class=\"colab-df-convert\" onclick=\"convertToInteractive('df-a3ea7b6c-1130-4c12-a495-054f7455fd5a')\"\n",
              "            title=\"Convert this dataframe to an interactive table.\"\n",
              "            style=\"display:none;\">\n",
              "\n",
              "  <svg xmlns=\"http://www.w3.org/2000/svg\" height=\"24px\" viewBox=\"0 -960 960 960\">\n",
              "    <path d=\"M120-120v-720h720v720H120Zm60-500h600v-160H180v160Zm220 220h160v-160H400v160Zm0 220h160v-160H400v160ZM180-400h160v-160H180v160Zm440 0h160v-160H620v160ZM180-180h160v-160H180v160Zm440 0h160v-160H620v160Z\"/>\n",
              "  </svg>\n",
              "    </button>\n",
              "\n",
              "  <style>\n",
              "    .colab-df-container {\n",
              "      display:flex;\n",
              "      gap: 12px;\n",
              "    }\n",
              "\n",
              "    .colab-df-convert {\n",
              "      background-color: #E8F0FE;\n",
              "      border: none;\n",
              "      border-radius: 50%;\n",
              "      cursor: pointer;\n",
              "      display: none;\n",
              "      fill: #1967D2;\n",
              "      height: 32px;\n",
              "      padding: 0 0 0 0;\n",
              "      width: 32px;\n",
              "    }\n",
              "\n",
              "    .colab-df-convert:hover {\n",
              "      background-color: #E2EBFA;\n",
              "      box-shadow: 0px 1px 2px rgba(60, 64, 67, 0.3), 0px 1px 3px 1px rgba(60, 64, 67, 0.15);\n",
              "      fill: #174EA6;\n",
              "    }\n",
              "\n",
              "    .colab-df-buttons div {\n",
              "      margin-bottom: 4px;\n",
              "    }\n",
              "\n",
              "    [theme=dark] .colab-df-convert {\n",
              "      background-color: #3B4455;\n",
              "      fill: #D2E3FC;\n",
              "    }\n",
              "\n",
              "    [theme=dark] .colab-df-convert:hover {\n",
              "      background-color: #434B5C;\n",
              "      box-shadow: 0px 1px 3px 1px rgba(0, 0, 0, 0.15);\n",
              "      filter: drop-shadow(0px 1px 2px rgba(0, 0, 0, 0.3));\n",
              "      fill: #FFFFFF;\n",
              "    }\n",
              "  </style>\n",
              "\n",
              "    <script>\n",
              "      const buttonEl =\n",
              "        document.querySelector('#df-a3ea7b6c-1130-4c12-a495-054f7455fd5a button.colab-df-convert');\n",
              "      buttonEl.style.display =\n",
              "        google.colab.kernel.accessAllowed ? 'block' : 'none';\n",
              "\n",
              "      async function convertToInteractive(key) {\n",
              "        const element = document.querySelector('#df-a3ea7b6c-1130-4c12-a495-054f7455fd5a');\n",
              "        const dataTable =\n",
              "          await google.colab.kernel.invokeFunction('convertToInteractive',\n",
              "                                                    [key], {});\n",
              "        if (!dataTable) return;\n",
              "\n",
              "        const docLinkHtml = 'Like what you see? Visit the ' +\n",
              "          '<a target=\"_blank\" href=https://colab.research.google.com/notebooks/data_table.ipynb>data table notebook</a>'\n",
              "          + ' to learn more about interactive tables.';\n",
              "        element.innerHTML = '';\n",
              "        dataTable['output_type'] = 'display_data';\n",
              "        await google.colab.output.renderOutput(dataTable, element);\n",
              "        const docLink = document.createElement('div');\n",
              "        docLink.innerHTML = docLinkHtml;\n",
              "        element.appendChild(docLink);\n",
              "      }\n",
              "    </script>\n",
              "  </div>\n",
              "\n",
              "\n",
              "<div id=\"df-95145aba-fd23-491c-955b-5e5688b5f04d\">\n",
              "  <button class=\"colab-df-quickchart\" onclick=\"quickchart('df-95145aba-fd23-491c-955b-5e5688b5f04d')\"\n",
              "            title=\"Suggest charts\"\n",
              "            style=\"display:none;\">\n",
              "\n",
              "<svg xmlns=\"http://www.w3.org/2000/svg\" height=\"24px\"viewBox=\"0 0 24 24\"\n",
              "     width=\"24px\">\n",
              "    <g>\n",
              "        <path d=\"M19 3H5c-1.1 0-2 .9-2 2v14c0 1.1.9 2 2 2h14c1.1 0 2-.9 2-2V5c0-1.1-.9-2-2-2zM9 17H7v-7h2v7zm4 0h-2V7h2v10zm4 0h-2v-4h2v4z\"/>\n",
              "    </g>\n",
              "</svg>\n",
              "  </button>\n",
              "\n",
              "<style>\n",
              "  .colab-df-quickchart {\n",
              "      --bg-color: #E8F0FE;\n",
              "      --fill-color: #1967D2;\n",
              "      --hover-bg-color: #E2EBFA;\n",
              "      --hover-fill-color: #174EA6;\n",
              "      --disabled-fill-color: #AAA;\n",
              "      --disabled-bg-color: #DDD;\n",
              "  }\n",
              "\n",
              "  [theme=dark] .colab-df-quickchart {\n",
              "      --bg-color: #3B4455;\n",
              "      --fill-color: #D2E3FC;\n",
              "      --hover-bg-color: #434B5C;\n",
              "      --hover-fill-color: #FFFFFF;\n",
              "      --disabled-bg-color: #3B4455;\n",
              "      --disabled-fill-color: #666;\n",
              "  }\n",
              "\n",
              "  .colab-df-quickchart {\n",
              "    background-color: var(--bg-color);\n",
              "    border: none;\n",
              "    border-radius: 50%;\n",
              "    cursor: pointer;\n",
              "    display: none;\n",
              "    fill: var(--fill-color);\n",
              "    height: 32px;\n",
              "    padding: 0;\n",
              "    width: 32px;\n",
              "  }\n",
              "\n",
              "  .colab-df-quickchart:hover {\n",
              "    background-color: var(--hover-bg-color);\n",
              "    box-shadow: 0 1px 2px rgba(60, 64, 67, 0.3), 0 1px 3px 1px rgba(60, 64, 67, 0.15);\n",
              "    fill: var(--button-hover-fill-color);\n",
              "  }\n",
              "\n",
              "  .colab-df-quickchart-complete:disabled,\n",
              "  .colab-df-quickchart-complete:disabled:hover {\n",
              "    background-color: var(--disabled-bg-color);\n",
              "    fill: var(--disabled-fill-color);\n",
              "    box-shadow: none;\n",
              "  }\n",
              "\n",
              "  .colab-df-spinner {\n",
              "    border: 2px solid var(--fill-color);\n",
              "    border-color: transparent;\n",
              "    border-bottom-color: var(--fill-color);\n",
              "    animation:\n",
              "      spin 1s steps(1) infinite;\n",
              "  }\n",
              "\n",
              "  @keyframes spin {\n",
              "    0% {\n",
              "      border-color: transparent;\n",
              "      border-bottom-color: var(--fill-color);\n",
              "      border-left-color: var(--fill-color);\n",
              "    }\n",
              "    20% {\n",
              "      border-color: transparent;\n",
              "      border-left-color: var(--fill-color);\n",
              "      border-top-color: var(--fill-color);\n",
              "    }\n",
              "    30% {\n",
              "      border-color: transparent;\n",
              "      border-left-color: var(--fill-color);\n",
              "      border-top-color: var(--fill-color);\n",
              "      border-right-color: var(--fill-color);\n",
              "    }\n",
              "    40% {\n",
              "      border-color: transparent;\n",
              "      border-right-color: var(--fill-color);\n",
              "      border-top-color: var(--fill-color);\n",
              "    }\n",
              "    60% {\n",
              "      border-color: transparent;\n",
              "      border-right-color: var(--fill-color);\n",
              "    }\n",
              "    80% {\n",
              "      border-color: transparent;\n",
              "      border-right-color: var(--fill-color);\n",
              "      border-bottom-color: var(--fill-color);\n",
              "    }\n",
              "    90% {\n",
              "      border-color: transparent;\n",
              "      border-bottom-color: var(--fill-color);\n",
              "    }\n",
              "  }\n",
              "</style>\n",
              "\n",
              "  <script>\n",
              "    async function quickchart(key) {\n",
              "      const quickchartButtonEl =\n",
              "        document.querySelector('#' + key + ' button');\n",
              "      quickchartButtonEl.disabled = true;  // To prevent multiple clicks.\n",
              "      quickchartButtonEl.classList.add('colab-df-spinner');\n",
              "      try {\n",
              "        const charts = await google.colab.kernel.invokeFunction(\n",
              "            'suggestCharts', [key], {});\n",
              "      } catch (error) {\n",
              "        console.error('Error during call to suggestCharts:', error);\n",
              "      }\n",
              "      quickchartButtonEl.classList.remove('colab-df-spinner');\n",
              "      quickchartButtonEl.classList.add('colab-df-quickchart-complete');\n",
              "    }\n",
              "    (() => {\n",
              "      let quickchartButtonEl =\n",
              "        document.querySelector('#df-95145aba-fd23-491c-955b-5e5688b5f04d button');\n",
              "      quickchartButtonEl.style.display =\n",
              "        google.colab.kernel.accessAllowed ? 'block' : 'none';\n",
              "    })();\n",
              "  </script>\n",
              "</div>\n",
              "\n",
              "  <div id=\"id_380a5948-448d-4b2f-bfe2-5d018a74c20d\">\n",
              "    <style>\n",
              "      .colab-df-generate {\n",
              "        background-color: #E8F0FE;\n",
              "        border: none;\n",
              "        border-radius: 50%;\n",
              "        cursor: pointer;\n",
              "        display: none;\n",
              "        fill: #1967D2;\n",
              "        height: 32px;\n",
              "        padding: 0 0 0 0;\n",
              "        width: 32px;\n",
              "      }\n",
              "\n",
              "      .colab-df-generate:hover {\n",
              "        background-color: #E2EBFA;\n",
              "        box-shadow: 0px 1px 2px rgba(60, 64, 67, 0.3), 0px 1px 3px 1px rgba(60, 64, 67, 0.15);\n",
              "        fill: #174EA6;\n",
              "      }\n",
              "\n",
              "      [theme=dark] .colab-df-generate {\n",
              "        background-color: #3B4455;\n",
              "        fill: #D2E3FC;\n",
              "      }\n",
              "\n",
              "      [theme=dark] .colab-df-generate:hover {\n",
              "        background-color: #434B5C;\n",
              "        box-shadow: 0px 1px 3px 1px rgba(0, 0, 0, 0.15);\n",
              "        filter: drop-shadow(0px 1px 2px rgba(0, 0, 0, 0.3));\n",
              "        fill: #FFFFFF;\n",
              "      }\n",
              "    </style>\n",
              "    <button class=\"colab-df-generate\" onclick=\"generateWithVariable('attributes1_df')\"\n",
              "            title=\"Generate code using this dataframe.\"\n",
              "            style=\"display:none;\">\n",
              "\n",
              "  <svg xmlns=\"http://www.w3.org/2000/svg\" height=\"24px\"viewBox=\"0 0 24 24\"\n",
              "       width=\"24px\">\n",
              "    <path d=\"M7,19H8.4L18.45,9,17,7.55,7,17.6ZM5,21V16.75L18.45,3.32a2,2,0,0,1,2.83,0l1.4,1.43a1.91,1.91,0,0,1,.58,1.4,1.91,1.91,0,0,1-.58,1.4L9.25,21ZM18.45,9,17,7.55Zm-12,3A5.31,5.31,0,0,0,4.9,8.1,5.31,5.31,0,0,0,1,6.5,5.31,5.31,0,0,0,4.9,4.9,5.31,5.31,0,0,0,6.5,1,5.31,5.31,0,0,0,8.1,4.9,5.31,5.31,0,0,0,12,6.5,5.46,5.46,0,0,0,6.5,12Z\"/>\n",
              "  </svg>\n",
              "    </button>\n",
              "    <script>\n",
              "      (() => {\n",
              "      const buttonEl =\n",
              "        document.querySelector('#id_380a5948-448d-4b2f-bfe2-5d018a74c20d button.colab-df-generate');\n",
              "      buttonEl.style.display =\n",
              "        google.colab.kernel.accessAllowed ? 'block' : 'none';\n",
              "\n",
              "      buttonEl.onclick = () => {\n",
              "        google.colab.notebook.generateWithVariable('attributes1_df');\n",
              "      }\n",
              "      })();\n",
              "    </script>\n",
              "  </div>\n",
              "\n",
              "    </div>\n",
              "  </div>\n"
            ],
            "application/vnd.google.colaboratory.intrinsic+json": {
              "type": "dataframe",
              "variable_name": "attributes1_df",
              "summary": "{\n  \"name\": \"attributes1_df\",\n  \"rows\": 3,\n  \"fields\": [\n    {\n      \"column\": \"Attribuition Channel\",\n      \"properties\": {\n        \"dtype\": \"string\",\n        \"num_unique_values\": 3,\n        \"samples\": [\n          \"orientation\",\n          \"method\",\n          \"focus\"\n        ],\n        \"semantic_type\": \"\",\n        \"description\": \"\"\n      }\n    },\n    {\n      \"column\": \"info_aspect\",\n      \"properties\": {\n        \"dtype\": \"object\",\n        \"semantic_type\": \"\",\n        \"description\": \"\"\n      }\n    },\n    {\n      \"column\": \"cog_aspect\",\n      \"properties\": {\n        \"dtype\": \"object\",\n        \"semantic_type\": \"\",\n        \"description\": \"\"\n      }\n    },\n    {\n      \"column\": \"psych_aspect\",\n      \"properties\": {\n        \"dtype\": \"object\",\n        \"semantic_type\": \"\",\n        \"description\": \"\"\n      }\n    },\n    {\n      \"column\": \"energy_mod\",\n      \"properties\": {\n        \"dtype\": \"object\",\n        \"semantic_type\": \"\",\n        \"description\": \"\"\n      }\n    }\n  ]\n}"
            }
          },
          "metadata": {},
          "execution_count": 16
        }
      ]
    },
    {
      "cell_type": "code",
      "source": [
        "attributes1_df.loc['focus']['psych_aspect']"
      ],
      "metadata": {
        "colab": {
          "base_uri": "https://localhost:8080/"
        },
        "id": "2zrnh6iFbQys",
        "outputId": "52442ae6-458e-40de-da35-d6fa6a9420b7"
      },
      "execution_count": null,
      "outputs": [
        {
          "output_type": "execute_result",
          "data": {
            "text/plain": [
              "['extrospective', 'introspective']"
            ]
          },
          "metadata": {},
          "execution_count": 17
        }
      ]
    },
    {
      "cell_type": "markdown",
      "source": [
        "### 2nd-Tier Attribuition\n",
        "* Temperament\n",
        "* Aim\n",
        "* Modus Operandi\n"
      ],
      "metadata": {
        "id": "VjZE5Z0bNOrC"
      }
    },
    {
      "cell_type": "markdown",
      "source": [],
      "metadata": {
        "id": "BX3vxCEAPA__"
      }
    },
    {
      "cell_type": "code",
      "source": [
        "attributes2 ="
      ],
      "metadata": {
        "id": "aN7U31IVO-lG"
      },
      "execution_count": null,
      "outputs": []
    },
    {
      "cell_type": "markdown",
      "source": [
        "<a class=\"anchor\" id=\"info-aspects\"></a>\n",
        "## **Information Aspects**"
      ],
      "metadata": {
        "id": "hQeVHhf7zBcf"
      }
    },
    {
      "cell_type": "markdown",
      "source": [
        "**Information aspects** are 3 dimensional arrays of cognitive attributes, integrating an **OtO**, a **MoIG** and **FoV**. Each one of these cognitive attributes is topologically a natural dichotomic cognitive space (dimension), from complimentary and mutually exclusive aspects of reality.\n",
        "\n",
        "By interacting in this exclusive, differential way, all Aspects of Reality can be arranged into 8 Information Aspects. This happens as part of the process of Information Metabolism at a structural level, where each aspect of reality is naturally filtered and bined via cognitive attribuition methods and finally sorted into an Information Aspect."
      ],
      "metadata": {
        "id": "F5MFTDTSGznd"
      }
    },
    {
      "cell_type": "code",
      "source": [
        "#OBJECT DYNAMICS = Extraverted Change\n",
        "#Extraverted Thinking\n",
        "Te ={'short':'Te','aspect_name':['Extraverted Explicit Change'],'aspects':['Object','Dynamic','External']}\n",
        "#Extroverted Feeling\n",
        "Fe ={'short':'Fe','aspect_name':['Extraverted Implicit Change'],'aspects':['Object','Dynamic','Internal']}\n",
        "\n",
        "#FIELD DYNAMICS = Introverted Change\n",
        "#Introverted Sensing\n",
        "Si ={'short':'Si','aspect_name':['Intraverted Explicit Change'],'aspects':['Field','Dynamic','External']}\n",
        "#Introverted Intuition\n",
        "Ni ={'short':'Ni','aspect_name':['Intraverted Implicit Change'],'aspects':['Field','Dynamic','Internal']}\n",
        "\n",
        "#OBJECT STATICS\n",
        "#Extroverted Sensing\n",
        "Se ={'short':'Se','aspect_name':['Extraverted Explicit Stability'],'aspects':['Object','Static','External']}\n",
        "#Extroverted Intuition\n",
        "Ne ={'short':'Ne','aspect_name':['Extraverted Implicit Stability'],'aspects':['Object','Static','Internal']}\n",
        "\n",
        "#FIELD STATICS\n",
        "#Introverted Thinking\n",
        "Ti ={'short':'Ti','aspect_name':['Intraverted Explicit Stability'],'aspects':['Field','Static','External']}\n",
        "#Introverted Feeling\n",
        "Fi ={'short':'Fi','aspect_name':['Intraverted Implicit Stability'],'aspects':['Field','Static','Internal']}\n",
        "\n",
        "#List of information aspects\n",
        "Information_Aspects = [Te,Fe,Si,Ni,Se,Ne,Ti,Fi]\n",
        "info_aspects_df = pd.DataFrame(Information_Aspects)\n",
        "info_aspects_df.set_index('short',inplace=True)\n",
        "info_aspects_df.index.name = 'IME'\n",
        "info_aspects_df"
      ],
      "metadata": {
        "colab": {
          "base_uri": "https://localhost:8080/",
          "height": 331
        },
        "id": "XvdGHF8_KaSN",
        "outputId": "5d5893c9-df29-47c1-e220-cdb77798b481"
      },
      "execution_count": null,
      "outputs": [
        {
          "output_type": "execute_result",
          "data": {
            "text/plain": [
              "                          aspect_name                      aspects\n",
              "IME                                                               \n",
              "Te      [Extraverted Explicit Change]  [Object, Dynamic, External]\n",
              "Fe      [Extraverted Implicit Change]  [Object, Dynamic, Internal]\n",
              "Si      [Intraverted Explicit Change]   [Field, Dynamic, External]\n",
              "Ni      [Intraverted Implicit Change]   [Field, Dynamic, Internal]\n",
              "Se   [Extraverted Explicit Stability]   [Object, Static, External]\n",
              "Ne   [Extraverted Implicit Stability]   [Object, Static, Internal]\n",
              "Ti   [Intraverted Explicit Stability]    [Field, Static, External]\n",
              "Fi   [Intraverted Implicit Stability]    [Field, Static, Internal]"
            ],
            "text/html": [
              "\n",
              "  <div id=\"df-5684e819-205b-47bd-8b45-d5f94eb58ee9\" class=\"colab-df-container\">\n",
              "    <div>\n",
              "<style scoped>\n",
              "    .dataframe tbody tr th:only-of-type {\n",
              "        vertical-align: middle;\n",
              "    }\n",
              "\n",
              "    .dataframe tbody tr th {\n",
              "        vertical-align: top;\n",
              "    }\n",
              "\n",
              "    .dataframe thead th {\n",
              "        text-align: right;\n",
              "    }\n",
              "</style>\n",
              "<table border=\"1\" class=\"dataframe\">\n",
              "  <thead>\n",
              "    <tr style=\"text-align: right;\">\n",
              "      <th></th>\n",
              "      <th>aspect_name</th>\n",
              "      <th>aspects</th>\n",
              "    </tr>\n",
              "    <tr>\n",
              "      <th>IME</th>\n",
              "      <th></th>\n",
              "      <th></th>\n",
              "    </tr>\n",
              "  </thead>\n",
              "  <tbody>\n",
              "    <tr>\n",
              "      <th>Te</th>\n",
              "      <td>[Extraverted Explicit Change]</td>\n",
              "      <td>[Object, Dynamic, External]</td>\n",
              "    </tr>\n",
              "    <tr>\n",
              "      <th>Fe</th>\n",
              "      <td>[Extraverted Implicit Change]</td>\n",
              "      <td>[Object, Dynamic, Internal]</td>\n",
              "    </tr>\n",
              "    <tr>\n",
              "      <th>Si</th>\n",
              "      <td>[Intraverted Explicit Change]</td>\n",
              "      <td>[Field, Dynamic, External]</td>\n",
              "    </tr>\n",
              "    <tr>\n",
              "      <th>Ni</th>\n",
              "      <td>[Intraverted Implicit Change]</td>\n",
              "      <td>[Field, Dynamic, Internal]</td>\n",
              "    </tr>\n",
              "    <tr>\n",
              "      <th>Se</th>\n",
              "      <td>[Extraverted Explicit Stability]</td>\n",
              "      <td>[Object, Static, External]</td>\n",
              "    </tr>\n",
              "    <tr>\n",
              "      <th>Ne</th>\n",
              "      <td>[Extraverted Implicit Stability]</td>\n",
              "      <td>[Object, Static, Internal]</td>\n",
              "    </tr>\n",
              "    <tr>\n",
              "      <th>Ti</th>\n",
              "      <td>[Intraverted Explicit Stability]</td>\n",
              "      <td>[Field, Static, External]</td>\n",
              "    </tr>\n",
              "    <tr>\n",
              "      <th>Fi</th>\n",
              "      <td>[Intraverted Implicit Stability]</td>\n",
              "      <td>[Field, Static, Internal]</td>\n",
              "    </tr>\n",
              "  </tbody>\n",
              "</table>\n",
              "</div>\n",
              "    <div class=\"colab-df-buttons\">\n",
              "\n",
              "  <div class=\"colab-df-container\">\n",
              "    <button class=\"colab-df-convert\" onclick=\"convertToInteractive('df-5684e819-205b-47bd-8b45-d5f94eb58ee9')\"\n",
              "            title=\"Convert this dataframe to an interactive table.\"\n",
              "            style=\"display:none;\">\n",
              "\n",
              "  <svg xmlns=\"http://www.w3.org/2000/svg\" height=\"24px\" viewBox=\"0 -960 960 960\">\n",
              "    <path d=\"M120-120v-720h720v720H120Zm60-500h600v-160H180v160Zm220 220h160v-160H400v160Zm0 220h160v-160H400v160ZM180-400h160v-160H180v160Zm440 0h160v-160H620v160ZM180-180h160v-160H180v160Zm440 0h160v-160H620v160Z\"/>\n",
              "  </svg>\n",
              "    </button>\n",
              "\n",
              "  <style>\n",
              "    .colab-df-container {\n",
              "      display:flex;\n",
              "      gap: 12px;\n",
              "    }\n",
              "\n",
              "    .colab-df-convert {\n",
              "      background-color: #E8F0FE;\n",
              "      border: none;\n",
              "      border-radius: 50%;\n",
              "      cursor: pointer;\n",
              "      display: none;\n",
              "      fill: #1967D2;\n",
              "      height: 32px;\n",
              "      padding: 0 0 0 0;\n",
              "      width: 32px;\n",
              "    }\n",
              "\n",
              "    .colab-df-convert:hover {\n",
              "      background-color: #E2EBFA;\n",
              "      box-shadow: 0px 1px 2px rgba(60, 64, 67, 0.3), 0px 1px 3px 1px rgba(60, 64, 67, 0.15);\n",
              "      fill: #174EA6;\n",
              "    }\n",
              "\n",
              "    .colab-df-buttons div {\n",
              "      margin-bottom: 4px;\n",
              "    }\n",
              "\n",
              "    [theme=dark] .colab-df-convert {\n",
              "      background-color: #3B4455;\n",
              "      fill: #D2E3FC;\n",
              "    }\n",
              "\n",
              "    [theme=dark] .colab-df-convert:hover {\n",
              "      background-color: #434B5C;\n",
              "      box-shadow: 0px 1px 3px 1px rgba(0, 0, 0, 0.15);\n",
              "      filter: drop-shadow(0px 1px 2px rgba(0, 0, 0, 0.3));\n",
              "      fill: #FFFFFF;\n",
              "    }\n",
              "  </style>\n",
              "\n",
              "    <script>\n",
              "      const buttonEl =\n",
              "        document.querySelector('#df-5684e819-205b-47bd-8b45-d5f94eb58ee9 button.colab-df-convert');\n",
              "      buttonEl.style.display =\n",
              "        google.colab.kernel.accessAllowed ? 'block' : 'none';\n",
              "\n",
              "      async function convertToInteractive(key) {\n",
              "        const element = document.querySelector('#df-5684e819-205b-47bd-8b45-d5f94eb58ee9');\n",
              "        const dataTable =\n",
              "          await google.colab.kernel.invokeFunction('convertToInteractive',\n",
              "                                                    [key], {});\n",
              "        if (!dataTable) return;\n",
              "\n",
              "        const docLinkHtml = 'Like what you see? Visit the ' +\n",
              "          '<a target=\"_blank\" href=https://colab.research.google.com/notebooks/data_table.ipynb>data table notebook</a>'\n",
              "          + ' to learn more about interactive tables.';\n",
              "        element.innerHTML = '';\n",
              "        dataTable['output_type'] = 'display_data';\n",
              "        await google.colab.output.renderOutput(dataTable, element);\n",
              "        const docLink = document.createElement('div');\n",
              "        docLink.innerHTML = docLinkHtml;\n",
              "        element.appendChild(docLink);\n",
              "      }\n",
              "    </script>\n",
              "  </div>\n",
              "\n",
              "\n",
              "<div id=\"df-3926681c-2572-4746-a2a1-8736d3d09a3b\">\n",
              "  <button class=\"colab-df-quickchart\" onclick=\"quickchart('df-3926681c-2572-4746-a2a1-8736d3d09a3b')\"\n",
              "            title=\"Suggest charts\"\n",
              "            style=\"display:none;\">\n",
              "\n",
              "<svg xmlns=\"http://www.w3.org/2000/svg\" height=\"24px\"viewBox=\"0 0 24 24\"\n",
              "     width=\"24px\">\n",
              "    <g>\n",
              "        <path d=\"M19 3H5c-1.1 0-2 .9-2 2v14c0 1.1.9 2 2 2h14c1.1 0 2-.9 2-2V5c0-1.1-.9-2-2-2zM9 17H7v-7h2v7zm4 0h-2V7h2v10zm4 0h-2v-4h2v4z\"/>\n",
              "    </g>\n",
              "</svg>\n",
              "  </button>\n",
              "\n",
              "<style>\n",
              "  .colab-df-quickchart {\n",
              "      --bg-color: #E8F0FE;\n",
              "      --fill-color: #1967D2;\n",
              "      --hover-bg-color: #E2EBFA;\n",
              "      --hover-fill-color: #174EA6;\n",
              "      --disabled-fill-color: #AAA;\n",
              "      --disabled-bg-color: #DDD;\n",
              "  }\n",
              "\n",
              "  [theme=dark] .colab-df-quickchart {\n",
              "      --bg-color: #3B4455;\n",
              "      --fill-color: #D2E3FC;\n",
              "      --hover-bg-color: #434B5C;\n",
              "      --hover-fill-color: #FFFFFF;\n",
              "      --disabled-bg-color: #3B4455;\n",
              "      --disabled-fill-color: #666;\n",
              "  }\n",
              "\n",
              "  .colab-df-quickchart {\n",
              "    background-color: var(--bg-color);\n",
              "    border: none;\n",
              "    border-radius: 50%;\n",
              "    cursor: pointer;\n",
              "    display: none;\n",
              "    fill: var(--fill-color);\n",
              "    height: 32px;\n",
              "    padding: 0;\n",
              "    width: 32px;\n",
              "  }\n",
              "\n",
              "  .colab-df-quickchart:hover {\n",
              "    background-color: var(--hover-bg-color);\n",
              "    box-shadow: 0 1px 2px rgba(60, 64, 67, 0.3), 0 1px 3px 1px rgba(60, 64, 67, 0.15);\n",
              "    fill: var(--button-hover-fill-color);\n",
              "  }\n",
              "\n",
              "  .colab-df-quickchart-complete:disabled,\n",
              "  .colab-df-quickchart-complete:disabled:hover {\n",
              "    background-color: var(--disabled-bg-color);\n",
              "    fill: var(--disabled-fill-color);\n",
              "    box-shadow: none;\n",
              "  }\n",
              "\n",
              "  .colab-df-spinner {\n",
              "    border: 2px solid var(--fill-color);\n",
              "    border-color: transparent;\n",
              "    border-bottom-color: var(--fill-color);\n",
              "    animation:\n",
              "      spin 1s steps(1) infinite;\n",
              "  }\n",
              "\n",
              "  @keyframes spin {\n",
              "    0% {\n",
              "      border-color: transparent;\n",
              "      border-bottom-color: var(--fill-color);\n",
              "      border-left-color: var(--fill-color);\n",
              "    }\n",
              "    20% {\n",
              "      border-color: transparent;\n",
              "      border-left-color: var(--fill-color);\n",
              "      border-top-color: var(--fill-color);\n",
              "    }\n",
              "    30% {\n",
              "      border-color: transparent;\n",
              "      border-left-color: var(--fill-color);\n",
              "      border-top-color: var(--fill-color);\n",
              "      border-right-color: var(--fill-color);\n",
              "    }\n",
              "    40% {\n",
              "      border-color: transparent;\n",
              "      border-right-color: var(--fill-color);\n",
              "      border-top-color: var(--fill-color);\n",
              "    }\n",
              "    60% {\n",
              "      border-color: transparent;\n",
              "      border-right-color: var(--fill-color);\n",
              "    }\n",
              "    80% {\n",
              "      border-color: transparent;\n",
              "      border-right-color: var(--fill-color);\n",
              "      border-bottom-color: var(--fill-color);\n",
              "    }\n",
              "    90% {\n",
              "      border-color: transparent;\n",
              "      border-bottom-color: var(--fill-color);\n",
              "    }\n",
              "  }\n",
              "</style>\n",
              "\n",
              "  <script>\n",
              "    async function quickchart(key) {\n",
              "      const quickchartButtonEl =\n",
              "        document.querySelector('#' + key + ' button');\n",
              "      quickchartButtonEl.disabled = true;  // To prevent multiple clicks.\n",
              "      quickchartButtonEl.classList.add('colab-df-spinner');\n",
              "      try {\n",
              "        const charts = await google.colab.kernel.invokeFunction(\n",
              "            'suggestCharts', [key], {});\n",
              "      } catch (error) {\n",
              "        console.error('Error during call to suggestCharts:', error);\n",
              "      }\n",
              "      quickchartButtonEl.classList.remove('colab-df-spinner');\n",
              "      quickchartButtonEl.classList.add('colab-df-quickchart-complete');\n",
              "    }\n",
              "    (() => {\n",
              "      let quickchartButtonEl =\n",
              "        document.querySelector('#df-3926681c-2572-4746-a2a1-8736d3d09a3b button');\n",
              "      quickchartButtonEl.style.display =\n",
              "        google.colab.kernel.accessAllowed ? 'block' : 'none';\n",
              "    })();\n",
              "  </script>\n",
              "</div>\n",
              "\n",
              "  <div id=\"id_015e74cc-bf73-47f5-8e9c-501d528db80a\">\n",
              "    <style>\n",
              "      .colab-df-generate {\n",
              "        background-color: #E8F0FE;\n",
              "        border: none;\n",
              "        border-radius: 50%;\n",
              "        cursor: pointer;\n",
              "        display: none;\n",
              "        fill: #1967D2;\n",
              "        height: 32px;\n",
              "        padding: 0 0 0 0;\n",
              "        width: 32px;\n",
              "      }\n",
              "\n",
              "      .colab-df-generate:hover {\n",
              "        background-color: #E2EBFA;\n",
              "        box-shadow: 0px 1px 2px rgba(60, 64, 67, 0.3), 0px 1px 3px 1px rgba(60, 64, 67, 0.15);\n",
              "        fill: #174EA6;\n",
              "      }\n",
              "\n",
              "      [theme=dark] .colab-df-generate {\n",
              "        background-color: #3B4455;\n",
              "        fill: #D2E3FC;\n",
              "      }\n",
              "\n",
              "      [theme=dark] .colab-df-generate:hover {\n",
              "        background-color: #434B5C;\n",
              "        box-shadow: 0px 1px 3px 1px rgba(0, 0, 0, 0.15);\n",
              "        filter: drop-shadow(0px 1px 2px rgba(0, 0, 0, 0.3));\n",
              "        fill: #FFFFFF;\n",
              "      }\n",
              "    </style>\n",
              "    <button class=\"colab-df-generate\" onclick=\"generateWithVariable('info_aspects_df')\"\n",
              "            title=\"Generate code using this dataframe.\"\n",
              "            style=\"display:none;\">\n",
              "\n",
              "  <svg xmlns=\"http://www.w3.org/2000/svg\" height=\"24px\"viewBox=\"0 0 24 24\"\n",
              "       width=\"24px\">\n",
              "    <path d=\"M7,19H8.4L18.45,9,17,7.55,7,17.6ZM5,21V16.75L18.45,3.32a2,2,0,0,1,2.83,0l1.4,1.43a1.91,1.91,0,0,1,.58,1.4,1.91,1.91,0,0,1-.58,1.4L9.25,21ZM18.45,9,17,7.55Zm-12,3A5.31,5.31,0,0,0,4.9,8.1,5.31,5.31,0,0,0,1,6.5,5.31,5.31,0,0,0,4.9,4.9,5.31,5.31,0,0,0,6.5,1,5.31,5.31,0,0,0,8.1,4.9,5.31,5.31,0,0,0,12,6.5,5.46,5.46,0,0,0,6.5,12Z\"/>\n",
              "  </svg>\n",
              "    </button>\n",
              "    <script>\n",
              "      (() => {\n",
              "      const buttonEl =\n",
              "        document.querySelector('#id_015e74cc-bf73-47f5-8e9c-501d528db80a button.colab-df-generate');\n",
              "      buttonEl.style.display =\n",
              "        google.colab.kernel.accessAllowed ? 'block' : 'none';\n",
              "\n",
              "      buttonEl.onclick = () => {\n",
              "        google.colab.notebook.generateWithVariable('info_aspects_df');\n",
              "      }\n",
              "      })();\n",
              "    </script>\n",
              "  </div>\n",
              "\n",
              "    </div>\n",
              "  </div>\n"
            ],
            "application/vnd.google.colaboratory.intrinsic+json": {
              "type": "dataframe",
              "variable_name": "info_aspects_df",
              "summary": "{\n  \"name\": \"info_aspects_df\",\n  \"rows\": 8,\n  \"fields\": [\n    {\n      \"column\": \"IME\",\n      \"properties\": {\n        \"dtype\": \"string\",\n        \"num_unique_values\": 8,\n        \"samples\": [\n          \"Fe\",\n          \"Ne\",\n          \"Te\"\n        ],\n        \"semantic_type\": \"\",\n        \"description\": \"\"\n      }\n    },\n    {\n      \"column\": \"aspect_name\",\n      \"properties\": {\n        \"dtype\": \"object\",\n        \"semantic_type\": \"\",\n        \"description\": \"\"\n      }\n    },\n    {\n      \"column\": \"aspects\",\n      \"properties\": {\n        \"dtype\": \"object\",\n        \"semantic_type\": \"\",\n        \"description\": \"\"\n      }\n    }\n  ]\n}"
            }
          },
          "metadata": {},
          "execution_count": 7
        }
      ]
    },
    {
      "cell_type": "markdown",
      "source": [
        "<a class=\"anchor\" id=\"jung-aspects\"></a>\n",
        "## **Jungian Aspects**"
      ],
      "metadata": {
        "id": "YPQZZVJ6KPns"
      }
    },
    {
      "cell_type": "markdown",
      "source": [
        "<a class=\"anchor\" id=\"intuition\"></a>\n",
        "### Intuition"
      ],
      "metadata": {
        "id": "LQNjjNylmPm_"
      }
    },
    {
      "cell_type": "markdown",
      "source": [
        "#### **Intuitive Aspects**\n",
        "\n",
        "* **Extraverted Intuition (Ne)**: This aspect focuses on potential, possibilities, and abstract connections in the external world. It’s about seeing what could be rather than what is.\n",
        "\n",
        "Example: Brainstorming ideas, exploring new opportunities, or imagining future scenarios.\n",
        "\n",
        "* **Introverted Intuition (Ni)**: This aspect deals with internal patterns, essences, and deeper meanings. It’s about understanding the underlying nature of things and predicting outcomes.\n",
        "\n",
        "Example: Recognizing the core of a problem or foreseeing long-term consequences."
      ],
      "metadata": {
        "id": "-003b6TemFgC"
      }
    },
    {
      "cell_type": "markdown",
      "source": [
        "<a class=\"anchor\" id=\"sensation\"></a>\n",
        "### Sensation"
      ],
      "metadata": {
        "id": "InT_Jg4emqR2"
      }
    },
    {
      "cell_type": "markdown",
      "source": [
        "#### **Sensory Aspects**\n",
        "\n",
        "* **Extraverted Sensing (Se)**: This aspect focuses on external physical reality, action, and immediate impact. It’s about perceiving and influencing the tangible world.\n",
        "\n",
        "Example: Taking decisive action, enjoying physical sensations, or asserting dominance.\n",
        "\n",
        "* **Introverted Sensing (Si)**: This aspect deals with internal physical sensations, comfort, and subjective experiences. It’s about maintaining harmony with one’s body and surroundings.\n",
        "\n",
        "Example: Creating a cozy environment, savoring sensory pleasures, or recalling past experiences.\n",
        "\n"
      ],
      "metadata": {
        "id": "shYH9cb0pcN7"
      }
    },
    {
      "cell_type": "markdown",
      "source": [
        "<a class=\"anchor\" id=\"thinking\"></a>\n",
        "### Thinking"
      ],
      "metadata": {
        "id": "o1GeCxGkm54p"
      }
    },
    {
      "cell_type": "markdown",
      "source": [
        "#### **Logical-Thinking Aspects**\n",
        "\n",
        "* **Extraverted Logic (Te)**: This aspect focuses on external systems, efficiency, and objective facts. It’s about organizing, structuring, and applying logic to the external world.\n",
        "\n",
        "Example: Creating schedules, optimizing processes, or making data-driven decisions.\n",
        "\n",
        "* **Introverted Logic (Ti)**: This aspect deals with internal consistency, principles, and abstract structures. It’s about understanding how things work in a logical, systematic way.\n",
        "\n",
        "Example: Analyzing theories, solving puzzles, or building conceptual frameworks.\n"
      ],
      "metadata": {
        "id": "32XHXAprnpnH"
      }
    },
    {
      "cell_type": "markdown",
      "source": [
        "<a class=\"anchor\" id=\"feeling\"></a>\n",
        "### Feeling"
      ],
      "metadata": {
        "id": "_ox2wPRcnFzg"
      }
    },
    {
      "cell_type": "markdown",
      "source": [
        "#### **Ethical-Emotional Aspects**\n",
        "\n",
        "* **Extraverted Ethics (Fe)**: This aspect focuses on external emotional dynamics, social harmony, and expressing emotions. It’s about influencing the emotional atmosphere and connecting with others.\n",
        "\n",
        "Example: Energizing a group, expressing enthusiasm, or resolving conflicts.\n",
        "\n",
        "* **Introverted Ethics (Fi)**: This aspect deals with internal values, personal relationships, and moral judgments. It’s about understanding and evaluating the emotional bonds between people.\n",
        "\n",
        "Example: Assessing personal compatibility, feeling empathy, or making value-based decisions.\n"
      ],
      "metadata": {
        "id": "ZcWT_tnHoOHB"
      }
    },
    {
      "cell_type": "markdown",
      "source": [
        "## Information Elements Metabolism\n",
        "\n"
      ],
      "metadata": {
        "id": "tj5sEcVkpWtD"
      }
    },
    {
      "cell_type": "markdown",
      "source": [
        "### Introverted Intuition\n",
        "The Introverted Intuition (Ni) module for Information Metabolism(IM), transforms data pertaining to the Ni 3D aspect space (metadata), into an Information Element of Metabolism (IME).\n",
        "The Ni-IME can be channeled and cognized by several functions of the psyche, and is fed by the energy invested into cognitive attribuition as follows:\n",
        "\n",
        "1. Intraverted => Retroactive Feedback Loop (RFL)\n",
        "\n",
        "  * Attribuition of relational factors as guiding vector for energy investment\n",
        "  * Apperception of objects through their interaction\n",
        "  * Retracts energy from objects into self to process interconnectivity\n",
        "  * Energy oriented towards relationship between the self with the other\n",
        "  * Interpreting data as information which is framed by the interactive field of reference.  \n",
        "  * Apperception of information by means of association or introspection\n",
        "  * Information is reviewed upon (mirrored towards) self for reference, to gain feedback from introspection (1st level of abstraction)\n",
        "\n",
        "2. Implicit => Enfolded RFL (E-RFL)\n",
        "\n",
        "  * Attribuition of internal/inherent factors as means for Information Gain from relational space\n",
        "  * Apperception of accuracy through thorough consideration of implications\n",
        "  * Energy abstracted from concrete relationship towards inner vision\n",
        "  * Energy invested into the observation of the internal field of relationships\n",
        "  * Interpreting relational data as private, or inherent information\n",
        "  * Apperception of information by means of intuitive association (insights).\n",
        "  * Interpreting information about interactive factors behind the scenes as primordial (2nd level of abstraction)\n",
        "\n",
        "3. Change => Dynamic E-RFL\n",
        "  * Attribuition of consecutive, inherent factors as primordial means for Evaluation of relational space\n",
        "  * Apperception of reliability as coherence of variance in space-time factors\n",
        "  * Energy allocation with variable pace along chain of events\n",
        "  * Energy invested into the evaluation of implied consequences\n",
        "  * Interpreting relational continuous data as meaningful information\n",
        "  * Interpreting information as tendencially variating in function of inherent relative factors.\n",
        "  * Apperception of information by means of fluid imaginative insights."
      ],
      "metadata": {
        "id": "-AA28-eN0Jct"
      }
    },
    {
      "cell_type": "markdown",
      "source": [],
      "metadata": {
        "id": "roJ9im6Ry5f7"
      }
    },
    {
      "cell_type": "markdown",
      "source": [
        "## Cognitive Function Channels\n"
      ],
      "metadata": {
        "id": "w-pzOHIeJZV-"
      }
    },
    {
      "cell_type": "markdown",
      "source": [
        "\n",
        "Cognitive Function Channels are:\n",
        "\n",
        "1st Function (Leading)\t4D\tStrong, confident, and effortless. The individual's primary way of interacting with the world. It is the most consciously accepting, natural cognitive element, providing a dominant, favored lens for decision making.\n",
        "\n",
        "2nd Function (Creative)\t3D\tFlexible and adaptive. Used to support and complement the leading function.\n",
        "\n",
        "3rd Function (Role)\t2D\tContext-dependent and somewhat limited IME. It is used to adapt to social expectations but feels unnatural.\n",
        "\n",
        "4th Function (Painful)\tWeakest and most rigid IME. This function receives the least amount of feedback due to selective attention favoring the opposite axes of Informational Aspects. The individual may thus avoid or struggle with this function. It either processes in a minimal or a compensatory manner, in order to cover for the weakness area within the psyche.\n",
        "\n",
        "5th Function (Suggestive)\t1D\tWeak but valued. A source of self-consciousness The individual seeks external support in this area.\n",
        "\n",
        "6th Function (Mobilizing)\t2D\tContext-dependent. Used to adapt to social expectations but feels unnatural.\n",
        "\n",
        "7th Function (Ignoring)\t3D\tStrong but devalued. The individual can use it but doesn't prioritize it.\n",
        "\n",
        "8th Function (Demonstrative)\t4D\tStrong but unconscious. Used automatically and often without awareness.\n",
        "\n",
        "\n",
        "The 1st function (4D) is the strongest and most natural.\n",
        "\n",
        "The 2nd function (3D) is flexible and supportive but less dominant.\n",
        "\n",
        "The 3rd function (2D) is context-dependent and often a source of insecurity.\n",
        "\n",
        "The 4th function (1D) is the weakest and most rigid.\n",
        "\n",
        "The 5th function (1D) is weak but valued, often seeking external support.\n",
        "\n",
        "The 6th function (2D) is used to adapt to social expectations but feels unnatural.\n",
        "\n",
        "The 7th function (3D) is strong but devalued, used unconsciously.\n",
        "\n",
        "The 8th function (4D) is strong but unconscious, used automatically."
      ],
      "metadata": {
        "id": "gW0NI2oEKHW4"
      }
    },
    {
      "cell_type": "markdown",
      "source": [
        "## Prototypical Psychoinformtional Types\n",
        "by dimensionality"
      ],
      "metadata": {
        "id": "016c1Yjvy-HK"
      }
    },
    {
      "cell_type": "markdown",
      "source": [
        "1. ILE (Intuitive Logical Extravert) – The Inventor\n",
        "\n",
        "1st Function (Ne): 4D – Effortlessly generates ideas and explores possibilities.\n",
        "\n",
        "2nd Function (Ti): 3D – Applies logical principles creatively but may lack depth.\n",
        "\n",
        "3rd Function (Fe): 2D – Engages socially in familiar settings but struggles with emotional depth.\n",
        "\n",
        "4th Function (Si): 1D – Neglects physical comfort and relies on others for sensory details.\n",
        "\n",
        "5th Function (Fi): 1D – Struggles with understanding personal relationships and values.\n",
        "\n",
        "6th Function (Se): 2D – Takes action in familiar contexts but struggles with assertiveness.\n",
        "\n",
        "7th Function (Ni): 3D – Intuitively understands deeper meanings but devalues this function.\n",
        "\n",
        "8th Function (Te): 4D – Naturally organizes and optimizes systems but uses it unconsciously.\n",
        "\n",
        "2. SEI (Sensory Ethical Introvert) – The Mediator\n",
        "\n",
        "1st Function (Si): 4D – Naturally attuned to physical comfort and sensory experiences.\n",
        "\n",
        "2nd Function (Fe): 3D – Creates a warm, harmonious atmosphere but may lack emotional depth.\n",
        "\n",
        "3rd Function (Ti): 2D – Uses logic in familiar contexts but struggles with abstract systems.\n",
        "\n",
        "4th Function (Ne): 1D – Struggles with exploring abstract possibilities and prefers concrete reality.\n",
        "\n",
        "5th Function (Te): 1D – Struggles with organizing external systems and relies on others.\n",
        "\n",
        "6th Function (Ni): 2D – Understands deeper meanings in familiar contexts but struggles with abstraction.\n",
        "\n",
        "7th Function (Fi): 3D – Values personal relationships but devalues this function.\n",
        "\n",
        "8th Function (Se): 4D – Naturally assertive but uses this function unconsciously.\n",
        "\n",
        "3. ESE (Ethical Sensory Extravert) – The Enthusiast\n",
        "\n",
        "1st Function (Fe): 4D – Naturally energizes and harmonizes social environments.\n",
        "\n",
        "2nd Function (Si): 3D – Creates comfortable, sensory-rich spaces but may lack depth.\n",
        "\n",
        "3rd Function (Ti): 2D – Uses logic in familiar contexts but struggles with abstract systems.\n",
        "\n",
        "4th Function (Ne): 1D – Struggles with exploring abstract possibilities and prefers concrete reality.\n",
        "\n",
        "5th Function (Te): 1D – Struggles with organizing external systems and relies on others.\n",
        "\n",
        "6th Function (Ni): 2D – Understands deeper meanings in familiar contexts but struggles with abstraction.\n",
        "\n",
        "7th Function (Fi): 3D – Values personal relationships but devalues this function.\n",
        "\n",
        "8th Function (Se): 4D – Naturally assertive but uses this function unconsciously.\n",
        "\n",
        "4. LII (Logical Intuitive Introvert) – The Analyst\n",
        "\n",
        "1st Function (Ti): 4D – Effortlessly builds and analyzes logical systems.\n",
        "\n",
        "2nd Function (Ne): 3D – Generates creative ideas but may lack focus.\n",
        "\n",
        "3rd Function (Fe): 2D – Engages socially in familiar settings but struggles with emotional depth.\n",
        "\n",
        "4th Function (Si): 1D – Neglects physical comfort and relies on others for sensory details.\n",
        "\n",
        "5th Function (Fi): 1D – Struggles with understanding personal relationships and values.\n",
        "\n",
        "6th Function (Se): 2D – Takes action in familiar contexts but struggles with assertiveness.\n",
        "\n",
        "7th Function (Ni): 3D – Intuitively understands deeper meanings but devalues this function.\n",
        "\n",
        "8th Function (Te): 4D – Naturally organizes and optimizes systems but uses it unconsciously.\n",
        "\n",
        "5. EIE (Ethical Intuitive Extravert) – The Mentor\n",
        "\n",
        "1st Function (Fe): 4D – Naturally energizes and harmonizes social environments.\n",
        "\n",
        "2nd Function (Ni): 3D – Intuitively understands deeper meanings but may lack focus.\n",
        "\n",
        "3rd Function (Ti): 2D – Uses logic in familiar contexts but struggles with abstract systems.\n",
        "\n",
        "4th Function (Se): 1D – Struggles with asserting dominance and prefers harmony.\n",
        "\n",
        "5th Function (Si): 1D – Struggles with physical comfort and relies on others for sensory details.\n",
        "\n",
        "6th Function (Te): 2D – Organizes external systems in familiar contexts but struggles with complexity.\n",
        "\n",
        "7th Function (Fi): 3D – Values personal relationships but devalues this function.\n",
        "\n",
        "8th Function (Ne): 4D – Naturally generates ideas but uses this function unconsciously.\n",
        "\n",
        "6. LSI (Logical Sensory Introvert) – The Inspector\n",
        "\n",
        "1st Function (Ti): 4D – Effortlessly builds and analyzes logical systems.\n",
        "\n",
        "2nd Function (Se): 3D – Takes decisive action but may lack flexibility.\n",
        "\n",
        "3rd Function (Fe): 2D – Engages socially in familiar settings but struggles with emotional depth.\n",
        "\n",
        "4th Function (Ni): 1D – Struggles with understanding deeper meanings and prefers concrete facts.\n",
        "\n",
        "5th Function (Ne): 1D – Struggles with exploring abstract possibilities and prefers concrete reality.\n",
        "\n",
        "6th Function (Fi): 2D – Values personal relationships in familiar contexts but struggles with depth.\n",
        "\n",
        "7th Function (Si): 3D – Naturally attuned to physical comfort but devalues this function.\n",
        "\n",
        "8th Function (Te): 4D – Naturally organizes and optimizes systems but uses it unconsciously.\n",
        "\n",
        "7. SLE (Sensory Logical Extravert) – The Conqueror\n",
        "\n",
        "1st Function (Se): 4D – Naturally assertive and action-oriented.\n",
        "\n",
        "2nd Function (Ti): 3D – Applies logical principles creatively but may lack depth.\n",
        "\n",
        "3rd Function (Fe): 2D – Engages socially in familiar settings but struggles with emotional depth.\n",
        "\n",
        "4th Function (Ni): 1D – Struggles with understanding deeper meanings and prefers concrete facts.\n",
        "\n",
        "5th Function (Ne): 1D – Struggles with exploring abstract possibilities and prefers concrete reality.\n",
        "\n",
        "6th Function (Fi): 2D – Values personal relationships in familiar contexts but struggles with depth.\n",
        "\n",
        "7th Function (Si): 3D – Naturally attuned to physical comfort but devalues this function.\n",
        "\n",
        "8th Function (Te): 4D – Naturally organizes and optimizes systems but uses it unconsciously.\n",
        "\n",
        "8. IEI (Intuitive Ethical Introvert) – The Romantic\n",
        "\n",
        "1st Function (Ni): 4D – Naturally understands deeper meanings and patterns.\n",
        "\n",
        "2nd Function (Fe): 3D – Creates a warm, harmonious atmosphere but may lack emotional depth.\n",
        "\n",
        "3rd Function (Ti): 2D – Uses logic in familiar contexts but struggles with abstract systems.\n",
        "\n",
        "4th Function (Se): 1D – Struggles with asserting dominance and prefers harmony.\n",
        "\n",
        "5th Function (Si): 1D – Struggles with physical comfort and relies on others for sensory details.\n",
        "\n",
        "6th Function (Te): 2D – Organizes external systems in familiar contexts but struggles with complexity.\n",
        "\n",
        "7th Function (Fi): 3D – Values personal relationships but devalues this function.\n",
        "\n",
        "8th Function (Ne): 4D – Naturally generates ideas but uses this function unconsciously.\n",
        "\n",
        "9. LIE (Logical Intuitive Extravert) – The Entrepreneur\n",
        "\n",
        "1st Function (Te): 4D – Naturally organizes and optimizes external systems.\n",
        "\n",
        "2nd Function (Ni): 3D – Intuitively understands deeper meanings but may lack focus.\n",
        "\n",
        "3rd Function (Fi): 2D – Values personal relationships but struggles with emotional depth.\n",
        "\n",
        "4th Function (Si): 1D – Neglects physical comfort and relies on others for sensory details.\n",
        "\n",
        "5th Function (Se): 1D – Struggles with asserting dominance and prefers harmony.\n",
        "\n",
        "6th Function (Fe): 2D – Engages socially in familiar settings but struggles with emotional depth.\n",
        "\n",
        "7th Function (Ne): 3D – Generates creative ideas but devalues this function.\n",
        "\n",
        "8th Function (Ti): 4D – Naturally builds logical systems but uses it unconsciously.\n",
        "\n",
        "10. ESI (Ethical Sensory Introvert) – The Guardian\n",
        "\n",
        "1st Function (Fi): 4D – Naturally understands and values personal relationships.\n",
        "\n",
        "2nd Function (Se): 3D – Takes decisive action but may lack flexibility.\n",
        "\n",
        "3rd Function (Ti): 2D – Uses logic in familiar contexts but struggles with abstract systems.\n",
        "\n",
        "4th Function (Ne): 1D – Struggles with exploring abstract possibilities and prefers concrete reality.\n",
        "\n",
        "5th Function (Ni): 1D – Struggles with understanding deeper meanings and prefers concrete facts.\n",
        "\n",
        "6th Function (Te): 2D – Organizes external systems in familiar contexts but struggles with complexity.\n",
        "\n",
        "7th Function (Si): 3D – Naturally attuned to physical comfort but devalues this function.\n",
        "\n",
        "8th Function (Fe): 4D – Naturally energizes social environments but uses it unconsciously.\n",
        "\n",
        "11. SEE (Sensory Ethical Extravert) – The Politician\n",
        "\n",
        "1st Function (Se): 4D – Naturally assertive and action-oriented.\n",
        "\n",
        "2nd Function (Fi): 3D – Values personal relationships but may lack emotional depth.\n",
        "\n",
        "3rd Function (Ti): 2D – Uses logic in familiar contexts but struggles with abstract systems.\n",
        "\n",
        "4th Function (Ne): 1D – Struggles with exploring abstract possibilities and prefers concrete reality.\n",
        "\n",
        "5th Function (Ni): 1D – Struggles with understanding deeper meanings and prefers concrete facts.\n",
        "\n",
        "6th Function (Te): 2D – Organizes external systems in familiar contexts but struggles with complexity.\n",
        "\n",
        "7th Function (Si): 3D – Naturally attuned to physical comfort but devalues this function.\n",
        "\n",
        "8th Function (Fe): 4D – Naturally energizes social environments but uses it unconsciously.\n",
        "\n",
        "12. ILI (Intuitive Logical Introvert) – The Critic\n",
        "\n",
        "1st Function (Ni): 4D – Naturally understands deeper meanings and patterns.\n",
        "\n",
        "2nd Function (Te): 3D – Organizes and optimizes external systems but may lack depth.\n",
        "\n",
        "3rd Function (Fi): 2D – Values personal relationships but struggles with emotional depth.\n",
        "\n",
        "4th Function (Se): 1D – Struggles with asserting dominance and prefers harmony.\n",
        "\n",
        "5th Function (Si): 1D – Struggles with physical comfort and relies on others for sensory details.\n",
        "\n",
        "6th Function (Fe): 2D – Engages socially in familiar settings but struggles with emotional depth.\n",
        "\n",
        "7th Function (Ne): 3D – Generates creative ideas but devalues this function.\n",
        "\n",
        "8th Function (Ti): 4D – Naturally builds logical systems but uses it unconsciously.\n",
        "\n",
        "13. EII (Ethical Intuitive Introvert) – The Humanist\n",
        "\n",
        "1st Function (Fi): 4D – Naturally understands and values personal relationships.\n",
        "\n",
        "2nd Function (Ne): 3D – Generates creative ideas but may lack focus.\n",
        "\n",
        "3rd Function (Ti): 2D – Uses logic in familiar contexts but struggles with abstract systems.\n",
        "\n",
        "4th Function (Se): 1D – Struggles with asserting dominance and prefers harmony.\n",
        "\n",
        "5th Function (Si): 1D – Struggles with physical comfort and relies on others for sensory details.\n",
        "\n",
        "6th Function (Te): 2D – Organizes external systems in familiar contexts but struggles with complexity.\n",
        "\n",
        "7th Function (Ni): 3D – Intuitively understands deeper meanings but devalues this function.\n",
        "\n",
        "8th Function (Fe): 4D – Naturally energizes social environments but uses it unconsciously.\n",
        "\n",
        "14. LSE (Logical Sensory Extravert) – The Director\n",
        "\n",
        "1st Function (Te): 4D – Naturally organizes and optimizes external systems.\n",
        "\n",
        "2nd Function (Si): 3D – Creates comfortable, sensory-rich spaces but may lack depth.\n",
        "\n",
        "3rd Function (Fi): 2D – Values personal relationships but struggles with emotional depth.\n",
        "\n",
        "4th Function (Ni): 1D – Struggles with understanding deeper meanings and prefers concrete facts.\n",
        "\n",
        "5th Function (Ne): 1D – Struggles with exploring abstract possibilities and prefers concrete reality.\n",
        "\n",
        "6th Function (Fe): 2D – Engages socially in familiar settings but struggles with emotional depth.\n",
        "\n",
        "7th Function (Se): 3D – Naturally assertive but devalues this function.\n",
        "\n",
        "8th Function (Ti): 4D – Naturally builds logical systems but uses it unconsciously.\n",
        "\n",
        "15. IEE (Intuitive Ethical Extravert) – The Psychologist\n",
        "\n",
        "1st Function (Ne): 4D – Effortlessly generates ideas and explores possibilities.\n",
        "\n",
        "2nd Function (Fi): 3D – Values personal relationships but may lack emotional depth.\n",
        "\n",
        "3rd Function (Ti): 2D – Uses logic in familiar contexts but struggles with abstract systems.\n",
        "\n",
        "4th Function (Se): 1D – Struggles with asserting dominance and prefers harmony.\n",
        "\n",
        "5th Function (Si): 1D – Struggles with physical comfort and relies on others for sensory details.\n",
        "\n",
        "6th Function (Te): 2D – Organizes external systems in familiar contexts but struggles with complexity.\n",
        "\n",
        "7th Function (Ni): 3D – Intuitively understands deeper meanings but devalues this function.\n",
        "\n",
        "8th Function (Fe): 4D – Naturally energizes social environments but uses it unconsciously.\n",
        "\n",
        "16. SLI (Sensory Logical Introvert) – The Craftsman\n",
        "\n",
        "1st Function (Si): 4D – Naturally attuned to physical comfort and sensory experiences.\n",
        "\n",
        "2nd Function (Te): 3D – Organizes and optimizes external systems but may lack depth.\n",
        "\n",
        "3rd Function (Fi): 2D – Values personal relationships but struggles with emotional depth.\n",
        "\n",
        "4th Function (Ne): 1D – Struggles with exploring abstract possibilities and prefers concrete reality.\n",
        "\n",
        "5th Function (Ni): 1D – Struggles with understanding deeper meanings and prefers concrete facts.\n",
        "\n",
        "6th Function (Fe): 2D – Engages socially in familiar settings but struggles with emotional depth.\n",
        "\n",
        "7th Function (Se): 3D – Naturally assertive but devalues this function.\n",
        "\n",
        "8th Function (Ti): 4D – Naturally builds logical systems but uses it unconsciously."
      ],
      "metadata": {
        "id": "Gwk6OKtQzQz_"
      }
    },
    {
      "cell_type": "markdown",
      "source": [
        "# Central Types"
      ],
      "metadata": {
        "id": "EFlnU2MogfZd"
      }
    },
    {
      "cell_type": "markdown",
      "source": [
        "## LSI"
      ],
      "metadata": {
        "id": "GWGhNN8r0LuW"
      }
    },
    {
      "cell_type": "markdown",
      "source": [
        "Ti: Valoración consistente regulatoria, que rectifica la validez de los componentes de un sistema acorde a una serie de reglas explícitas.\n",
        "\n",
        "*Se: factual controlador, que designa las características de un dominio, estado o condición\n",
        "\n",
        "Regulacion metódica de la realidad mediante el control de los factores y características tangibles\n"
      ],
      "metadata": {
        "id": "g1BDMkat0Sg9"
      }
    },
    {
      "cell_type": "code",
      "source": [],
      "metadata": {
        "id": "nWVmwsmv0KY5"
      },
      "execution_count": null,
      "outputs": []
    },
    {
      "cell_type": "markdown",
      "source": [
        "# Test"
      ],
      "metadata": {
        "id": "VllWtuBvpSNy"
      }
    },
    {
      "cell_type": "markdown",
      "source": [
        "## Metrics"
      ],
      "metadata": {
        "id": "1EsoICO8qAjX"
      }
    },
    {
      "cell_type": "markdown",
      "source": [
        "**Consistency** =\n",
        "n multifold slice for regression of best predictor for central type tendency towards multi-test consistency, that is, under the consideration of several tests taken, adapting the model and learning from previous input(Probabilism), while also accounting for previous vs new error correction as a deformation factor under the interpretation of Bayesian norm (Conditionalization).\n",
        "\n",
        "Proviosonally the app can provide information about how your answers are tendencially deforming accross testing, suggesting you ever more accurate types and asking special questions regrading your previous vs new selected views to generate accurate contrasts and evaluate intricate nuances.\n",
        "\n",
        "**Reliability** =\n",
        "R squared, or the inverse of the mean squared error from central type prototipical values."
      ],
      "metadata": {
        "id": "DQpi0KdzqJvR"
      }
    },
    {
      "cell_type": "code",
      "source": [],
      "metadata": {
        "id": "uvD5F2qdpiRC"
      },
      "execution_count": null,
      "outputs": []
    },
    {
      "cell_type": "markdown",
      "source": [
        "## Attribution Dictionary##\n",
        "<a class=\"anchor\" id=\"dict\"></a>"
      ],
      "metadata": {
        "id": "1fTKrgdxfzGI"
      }
    },
    {
      "cell_type": "code",
      "source": [],
      "metadata": {
        "id": "I-n4nVnIuGw6"
      },
      "execution_count": null,
      "outputs": []
    },
    {
      "cell_type": "markdown",
      "source": [
        "## Text Analysis"
      ],
      "metadata": {
        "id": "IZUngzF8zdAw"
      }
    },
    {
      "cell_type": "code",
      "source": [
        "# Load a pre-trained BERT model from Hugging Face\n",
        "from transformers import BertTokenizer, BertForSequenceClassification\n",
        "tokenizer = BertTokenizer.from_pretrained('bert-base-uncased')\n",
        "model = BertForSequenceClassification.from_pretrained('bert-base-uncased')\n",
        "\n",
        "# Tokenize and encode the input text\n",
        "inputs = tokenizer.encode_plus(text, return_tensors='pt', padding=True)\n",
        "\n",
        "# Get predictions\n",
        "outputs = model(**inputs)\n",
        "prediction = outputs[0].argmax().item()\n",
        "print(f\"The socionics type is {prediction}\")\n"
      ],
      "metadata": {
        "id": "Xm48Ykt9zh7U"
      },
      "execution_count": null,
      "outputs": []
    }
  ]
}